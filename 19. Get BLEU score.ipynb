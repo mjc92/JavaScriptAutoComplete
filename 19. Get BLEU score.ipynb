{
 "cells": [
  {
   "cell_type": "code",
   "execution_count": 1,
   "metadata": {
    "collapsed": true
   },
   "outputs": [],
   "source": [
    "import nltk\n",
    "from functions import lex\n",
    "import os"
   ]
  },
  {
   "cell_type": "code",
   "execution_count": 4,
   "metadata": {
    "scrolled": true
   },
   "outputs": [
    {
     "name": "stdout",
     "output_type": "stream",
     "text": [
      "====================================================================\n",
      "0\n",
      "====================================================================\n",
      "0.6223329772884784\n",
      "0.049787068367863944\n",
      "0.6865890479690392\n"
     ]
    },
    {
     "name": "stderr",
     "output_type": "stream",
     "text": [
      "/home1/irteam/users/mjchoi/anaconda3/envs/pytorch/lib/python3.5/site-packages/nltk/translate/bleu_score.py:490: UserWarning: \n",
      "Corpus/Sentence contains 0 counts of 3-gram overlaps.\n",
      "BLEU scores might be undesirable; use SmoothingFunction().\n",
      "  warnings.warn(_msg)\n",
      "/home1/irteam/users/mjchoi/anaconda3/envs/pytorch/lib/python3.5/site-packages/nltk/translate/bleu_score.py:490: UserWarning: \n",
      "Corpus/Sentence contains 0 counts of 2-gram overlaps.\n",
      "BLEU scores might be undesirable; use SmoothingFunction().\n",
      "  warnings.warn(_msg)\n"
     ]
    },
    {
     "name": "stdout",
     "output_type": "stream",
     "text": [
      "1.0\n",
      "0.7071067811865475\n",
      "Illegal character '\"' at 1:9 after LexToken(LPAREN,'(',1,7)\n",
      "Illegal character '\"' at 1:9 after LexToken(LPAREN,'(',1,7)\n",
      "0.7952707287670506\n",
      "Illegal character '\"' at 1:9 after LexToken(LPAREN,'(',1,7)\n",
      "Illegal character '\"' at 1:9 after LexToken(LPAREN,'(',1,7)\n",
      "0.9306048591020996\n",
      "Illegal character '\"' at 1:9 after LexToken(LPAREN,'(',1,7)\n",
      "Illegal character '\"' at 1:9 after LexToken(LPAREN,'(',1,7)\n",
      "0.9036020036098448\n",
      "Illegal character '\"' at 1:9 after LexToken(LPAREN,'(',1,7)\n",
      "Illegal character '\"' at 1:9 after LexToken(LPAREN,'(',1,7)\n",
      "0.46024953713619404\n",
      "Illegal character '\"' at 1:9 after LexToken(LPAREN,'(',1,7)\n",
      "Illegal character '\"' at 1:9 after LexToken(LPAREN,'(',1,7)\n",
      "1.0\n",
      "Illegal character '\"' at 1:9 after LexToken(LPAREN,'(',1,7)\n",
      "Illegal character '\"' at 1:9 after LexToken(LPAREN,'(',1,7)\n",
      "0.3838665842168265\n",
      "Illegal character '\"' at 1:9 after LexToken(LPAREN,'(',1,7)\n",
      "Illegal character '\"' at 1:9 after LexToken(LPAREN,'(',1,7)\n",
      "0.5193071778680677\n",
      "Illegal character '\"' at 1:9 after LexToken(LPAREN,'(',1,7)\n",
      "Illegal character '\"' at 1:9 after LexToken(LPAREN,'(',1,7)\n",
      "Illegal character '\"' at 1:9 after LexToken(LPAREN,'(',1,7)\n",
      "Illegal character '\"' at 1:9 after LexToken(LPAREN,'(',1,7)\n",
      "Illegal character '\"' at 1:9 after LexToken(LPAREN,'(',1,7)\n",
      "Illegal character '\"' at 1:0 after None\n",
      "Illegal character '\"' at 1:9 after LexToken(LPAREN,'(',1,7)\n",
      "Illegal character '\"' at 1:0 after None\n",
      "1.0\n",
      "Illegal character '\"' at 1:9 after LexToken(LPAREN,'(',1,7)\n",
      "Illegal character '\"' at 1:0 after None\n",
      "Illegal character '\"' at 1:9 after LexToken(LPAREN,'(',1,7)\n",
      "Illegal character '\"' at 1:9 after LexToken(LPAREN,'(',1,7)\n",
      "Illegal character '\"' at 1:0 after None\n",
      "Illegal character '\"' at 1:0 after None\n",
      "Illegal character '\"' at 1:0 after None\n",
      "0.8408964152537145\n",
      "Illegal character '\"' at 1:0 after None\n",
      "Illegal character '\"' at 1:0 after None\n",
      "0.6223329772884784\n",
      "Illegal character '\"' at 1:0 after None\n",
      "Illegal character '\"' at 1:0 after None\n",
      "0.41105458056789007\n",
      "Illegal character '\"' at 1:0 after None\n",
      "Illegal character '\"' at 1:0 after None\n",
      "0.6223329772884784\n",
      "Illegal character '\"' at 1:0 after None\n",
      "Illegal character '\"' at 1:0 after None\n",
      "Illegal character '\"' at 1:0 after None\n",
      "Illegal character '\"' at 1:0 after None\n",
      "0\n",
      "====================================================================\n",
      "1\n",
      "====================================================================\n",
      "1.0\n",
      "0.392814650900513\n",
      "0.4854917717073234\n",
      "1.0\n",
      "0.4366835442847812\n",
      "0.42311785416105785\n",
      "0.3498761149110956\n",
      "0.4824015383731099\n",
      "0.6950150297221261\n",
      "0\n",
      "0.6580370064762462\n",
      "0.8633400213704505\n",
      "1.0\n",
      "0.6025286104785453\n",
      "0\n",
      "====================================================================\n",
      "2\n",
      "====================================================================\n",
      "====================================================================\n",
      "3\n",
      "====================================================================\n",
      "1.0\n",
      "1.0\n",
      "0\n",
      "====================================================================\n",
      "4\n",
      "====================================================================\n",
      "0.8459775915593432\n",
      "1.0\n",
      "0.684255096959503\n",
      "1.0\n",
      "0.8210967436686386\n",
      "0.5873949094699213\n",
      "0.5408536609893481\n"
     ]
    },
    {
     "name": "stderr",
     "output_type": "stream",
     "text": [
      "/home1/irteam/users/mjchoi/anaconda3/envs/pytorch/lib/python3.5/site-packages/nltk/translate/bleu_score.py:490: UserWarning: \n",
      "Corpus/Sentence contains 0 counts of 4-gram overlaps.\n",
      "BLEU scores might be undesirable; use SmoothingFunction().\n",
      "  warnings.warn(_msg)\n"
     ]
    },
    {
     "name": "stdout",
     "output_type": "stream",
     "text": [
      "0.49473859088183875\n",
      "1.0\n",
      "0.8408964152537145\n",
      "0\n",
      "====================================================================\n",
      "5\n",
      "====================================================================\n",
      "1.0\n",
      "0.6391424205832694\n",
      "1.0\n",
      "0.882983588215262\n",
      "1.0\n",
      "0.6067341553572679\n",
      "1.0\n",
      "0.5995898760282281\n",
      "1.0\n",
      "0.6349015209464239\n",
      "1.0\n",
      "0.47734328704950396\n",
      "1.0\n",
      "0.5655853030187005\n",
      "1.0\n",
      "0.5882338008455698\n",
      "0.8408964152537145\n",
      "0.8091067115702212\n",
      "1.0\n",
      "0\n",
      "====================================================================\n",
      "6\n",
      "====================================================================\n",
      "0\n",
      "1.0\n",
      "1.0\n",
      "1.0\n",
      "1.0\n",
      "0\n",
      "====================================================================\n",
      "7\n",
      "====================================================================\n",
      "====================================================================\n",
      "8\n",
      "====================================================================\n",
      "0.6803749333171202\n",
      "0.3388714363186176\n",
      "1.0\n",
      "0.08971467620791669\n",
      "0.7598356856515925\n",
      "0.7598356856515925\n",
      "0.7598356856515925\n",
      "0.7510499815709779\n",
      "0.7598356856515925\n",
      "0.5747078645171895\n",
      "0.7598356856515925\n",
      "0.7510499815709779\n"
     ]
    },
    {
     "ename": "KeyboardInterrupt",
     "evalue": "",
     "output_type": "error",
     "traceback": [
      "\u001b[0;31m---------------------------------------------------------------------------\u001b[0m",
      "\u001b[0;31mKeyboardInterrupt\u001b[0m                         Traceback (most recent call last)",
      "\u001b[0;32m<ipython-input-4-ec8664d43273>\u001b[0m in \u001b[0;36m<module>\u001b[0;34m()\u001b[0m\n\u001b[1;32m     18\u001b[0m         \u001b[0mrefs\u001b[0m \u001b[0;34m=\u001b[0m \u001b[0;34m[\u001b[0m\u001b[0;34m]\u001b[0m\u001b[0;34m\u001b[0m\u001b[0m\n\u001b[1;32m     19\u001b[0m         \u001b[0;32mfor\u001b[0m \u001b[0mj\u001b[0m \u001b[0;32min\u001b[0m \u001b[0mrange\u001b[0m\u001b[0;34m(\u001b[0m\u001b[0mnum_refs\u001b[0m\u001b[0;34m)\u001b[0m\u001b[0;34m:\u001b[0m\u001b[0;34m\u001b[0m\u001b[0m\n\u001b[0;32m---> 20\u001b[0;31m             \u001b[0mrefs\u001b[0m\u001b[0;34m.\u001b[0m\u001b[0mextend\u001b[0m\u001b[0;34m(\u001b[0m\u001b[0mlex\u001b[0m\u001b[0;34m(\u001b[0m\u001b[0mlines\u001b[0m\u001b[0;34m[\u001b[0m\u001b[0mi\u001b[0m\u001b[0;34m+\u001b[0m\u001b[0mj\u001b[0m\u001b[0;34m]\u001b[0m\u001b[0;34m,\u001b[0m\u001b[0;34m'value'\u001b[0m\u001b[0;34m)\u001b[0m\u001b[0;34m)\u001b[0m\u001b[0;34m\u001b[0m\u001b[0m\n\u001b[0m\u001b[1;32m     21\u001b[0m         \u001b[0mhyp\u001b[0m \u001b[0;34m=\u001b[0m \u001b[0mlex\u001b[0m\u001b[0;34m(\u001b[0m\u001b[0mlines\u001b[0m\u001b[0;34m[\u001b[0m\u001b[0mi\u001b[0m\u001b[0;34m+\u001b[0m\u001b[0mnum_refs\u001b[0m\u001b[0;34m]\u001b[0m\u001b[0;34m)\u001b[0m\u001b[0;34m\u001b[0m\u001b[0m\n\u001b[1;32m     22\u001b[0m \u001b[0;31m#         if len(hyp)==0:\u001b[0m\u001b[0;34m\u001b[0m\u001b[0;34m\u001b[0m\u001b[0m\n",
      "\u001b[0;32m~/github/JavaScriptAutoComplete/functions.py\u001b[0m in \u001b[0;36mlex\u001b[0;34m(text, output_type)\u001b[0m\n\u001b[1;32m     14\u001b[0m     \u001b[0;31m# input: f.read()\u001b[0m\u001b[0;34m\u001b[0m\u001b[0;34m\u001b[0m\u001b[0m\n\u001b[1;32m     15\u001b[0m     \u001b[0mout_list\u001b[0m \u001b[0;34m=\u001b[0m \u001b[0;34m[\u001b[0m\u001b[0;34m]\u001b[0m\u001b[0;34m\u001b[0m\u001b[0m\n\u001b[0;32m---> 16\u001b[0;31m     \u001b[0mlexer\u001b[0m \u001b[0;34m=\u001b[0m \u001b[0mLexer\u001b[0m\u001b[0;34m(\u001b[0m\u001b[0;34m)\u001b[0m\u001b[0;34m\u001b[0m\u001b[0m\n\u001b[0m\u001b[1;32m     17\u001b[0m     \u001b[0mlexer\u001b[0m\u001b[0;34m.\u001b[0m\u001b[0minput\u001b[0m\u001b[0;34m(\u001b[0m\u001b[0mtext\u001b[0m\u001b[0;34m)\u001b[0m\u001b[0;34m\u001b[0m\u001b[0m\n\u001b[1;32m     18\u001b[0m     \u001b[0;32mwhile\u001b[0m \u001b[0;32mTrue\u001b[0m\u001b[0;34m:\u001b[0m\u001b[0;34m\u001b[0m\u001b[0m\n",
      "\u001b[0;32m~/anaconda3/envs/pytorch/lib/python3.5/site-packages/slimit/lexer.py\u001b[0m in \u001b[0;36m__init__\u001b[0;34m(self)\u001b[0m\n\u001b[1;32m     96\u001b[0m         \u001b[0mself\u001b[0m\u001b[0;34m.\u001b[0m\u001b[0mcur_token\u001b[0m \u001b[0;34m=\u001b[0m \u001b[0;32mNone\u001b[0m\u001b[0;34m\u001b[0m\u001b[0m\n\u001b[1;32m     97\u001b[0m         \u001b[0mself\u001b[0m\u001b[0;34m.\u001b[0m\u001b[0mnext_tokens\u001b[0m \u001b[0;34m=\u001b[0m \u001b[0;34m[\u001b[0m\u001b[0;34m]\u001b[0m\u001b[0;34m\u001b[0m\u001b[0m\n\u001b[0;32m---> 98\u001b[0;31m         \u001b[0mself\u001b[0m\u001b[0;34m.\u001b[0m\u001b[0mbuild\u001b[0m\u001b[0;34m(\u001b[0m\u001b[0;34m)\u001b[0m\u001b[0;34m\u001b[0m\u001b[0m\n\u001b[0m\u001b[1;32m     99\u001b[0m \u001b[0;34m\u001b[0m\u001b[0m\n\u001b[1;32m    100\u001b[0m     \u001b[0;32mdef\u001b[0m \u001b[0mbuild\u001b[0m\u001b[0;34m(\u001b[0m\u001b[0mself\u001b[0m\u001b[0;34m,\u001b[0m \u001b[0;34m**\u001b[0m\u001b[0mkwargs\u001b[0m\u001b[0;34m)\u001b[0m\u001b[0;34m:\u001b[0m\u001b[0;34m\u001b[0m\u001b[0m\n",
      "\u001b[0;32m~/anaconda3/envs/pytorch/lib/python3.5/site-packages/slimit/lexer.py\u001b[0m in \u001b[0;36mbuild\u001b[0;34m(self, **kwargs)\u001b[0m\n\u001b[1;32m    100\u001b[0m     \u001b[0;32mdef\u001b[0m \u001b[0mbuild\u001b[0m\u001b[0;34m(\u001b[0m\u001b[0mself\u001b[0m\u001b[0;34m,\u001b[0m \u001b[0;34m**\u001b[0m\u001b[0mkwargs\u001b[0m\u001b[0;34m)\u001b[0m\u001b[0;34m:\u001b[0m\u001b[0;34m\u001b[0m\u001b[0m\n\u001b[1;32m    101\u001b[0m         \u001b[0;34m\"\"\"Build the lexer.\"\"\"\u001b[0m\u001b[0;34m\u001b[0m\u001b[0m\n\u001b[0;32m--> 102\u001b[0;31m         \u001b[0mself\u001b[0m\u001b[0;34m.\u001b[0m\u001b[0mlexer\u001b[0m \u001b[0;34m=\u001b[0m \u001b[0mply\u001b[0m\u001b[0;34m.\u001b[0m\u001b[0mlex\u001b[0m\u001b[0;34m.\u001b[0m\u001b[0mlex\u001b[0m\u001b[0;34m(\u001b[0m\u001b[0mobject\u001b[0m\u001b[0;34m=\u001b[0m\u001b[0mself\u001b[0m\u001b[0;34m,\u001b[0m \u001b[0;34m**\u001b[0m\u001b[0mkwargs\u001b[0m\u001b[0;34m)\u001b[0m\u001b[0;34m\u001b[0m\u001b[0m\n\u001b[0m\u001b[1;32m    103\u001b[0m \u001b[0;34m\u001b[0m\u001b[0m\n\u001b[1;32m    104\u001b[0m     \u001b[0;32mdef\u001b[0m \u001b[0minput\u001b[0m\u001b[0;34m(\u001b[0m\u001b[0mself\u001b[0m\u001b[0;34m,\u001b[0m \u001b[0mtext\u001b[0m\u001b[0;34m)\u001b[0m\u001b[0;34m:\u001b[0m\u001b[0;34m\u001b[0m\u001b[0m\n",
      "\u001b[0;32m~/anaconda3/envs/pytorch/lib/python3.5/site-packages/ply/lex.py\u001b[0m in \u001b[0;36mlex\u001b[0;34m(module, object, debug, optimize, lextab, reflags, nowarn, outputdir, debuglog, errorlog)\u001b[0m\n\u001b[1;32m    907\u001b[0m     \u001b[0mlinfo\u001b[0m\u001b[0;34m.\u001b[0m\u001b[0mget_all\u001b[0m\u001b[0;34m(\u001b[0m\u001b[0;34m)\u001b[0m\u001b[0;34m\u001b[0m\u001b[0m\n\u001b[1;32m    908\u001b[0m     \u001b[0;32mif\u001b[0m \u001b[0;32mnot\u001b[0m \u001b[0moptimize\u001b[0m\u001b[0;34m:\u001b[0m\u001b[0;34m\u001b[0m\u001b[0m\n\u001b[0;32m--> 909\u001b[0;31m         \u001b[0;32mif\u001b[0m \u001b[0mlinfo\u001b[0m\u001b[0;34m.\u001b[0m\u001b[0mvalidate_all\u001b[0m\u001b[0;34m(\u001b[0m\u001b[0;34m)\u001b[0m\u001b[0;34m:\u001b[0m\u001b[0;34m\u001b[0m\u001b[0m\n\u001b[0m\u001b[1;32m    910\u001b[0m             \u001b[0;32mraise\u001b[0m \u001b[0mSyntaxError\u001b[0m\u001b[0;34m(\u001b[0m\u001b[0;34m\"Can't build lexer\"\u001b[0m\u001b[0;34m)\u001b[0m\u001b[0;34m\u001b[0m\u001b[0m\n\u001b[1;32m    911\u001b[0m \u001b[0;34m\u001b[0m\u001b[0m\n",
      "\u001b[0;32m~/anaconda3/envs/pytorch/lib/python3.5/site-packages/ply/lex.py\u001b[0m in \u001b[0;36mvalidate_all\u001b[0;34m(self)\u001b[0m\n\u001b[1;32m    578\u001b[0m         \u001b[0mself\u001b[0m\u001b[0;34m.\u001b[0m\u001b[0mvalidate_tokens\u001b[0m\u001b[0;34m(\u001b[0m\u001b[0;34m)\u001b[0m\u001b[0;34m\u001b[0m\u001b[0m\n\u001b[1;32m    579\u001b[0m         \u001b[0mself\u001b[0m\u001b[0;34m.\u001b[0m\u001b[0mvalidate_literals\u001b[0m\u001b[0;34m(\u001b[0m\u001b[0;34m)\u001b[0m\u001b[0;34m\u001b[0m\u001b[0m\n\u001b[0;32m--> 580\u001b[0;31m         \u001b[0mself\u001b[0m\u001b[0;34m.\u001b[0m\u001b[0mvalidate_rules\u001b[0m\u001b[0;34m(\u001b[0m\u001b[0;34m)\u001b[0m\u001b[0;34m\u001b[0m\u001b[0m\n\u001b[0m\u001b[1;32m    581\u001b[0m         \u001b[0;32mreturn\u001b[0m \u001b[0mself\u001b[0m\u001b[0;34m.\u001b[0m\u001b[0merror\u001b[0m\u001b[0;34m\u001b[0m\u001b[0m\n\u001b[1;32m    582\u001b[0m \u001b[0;34m\u001b[0m\u001b[0m\n",
      "\u001b[0;32m~/anaconda3/envs/pytorch/lib/python3.5/site-packages/ply/lex.py\u001b[0m in \u001b[0;36mvalidate_rules\u001b[0;34m(self)\u001b[0m\n\u001b[1;32m    820\u001b[0m \u001b[0;34m\u001b[0m\u001b[0m\n\u001b[1;32m    821\u001b[0m         \u001b[0;32mfor\u001b[0m \u001b[0mmodule\u001b[0m \u001b[0;32min\u001b[0m \u001b[0mself\u001b[0m\u001b[0;34m.\u001b[0m\u001b[0mmodules\u001b[0m\u001b[0;34m:\u001b[0m\u001b[0;34m\u001b[0m\u001b[0m\n\u001b[0;32m--> 822\u001b[0;31m             \u001b[0mself\u001b[0m\u001b[0;34m.\u001b[0m\u001b[0mvalidate_module\u001b[0m\u001b[0;34m(\u001b[0m\u001b[0mmodule\u001b[0m\u001b[0;34m)\u001b[0m\u001b[0;34m\u001b[0m\u001b[0m\n\u001b[0m\u001b[1;32m    823\u001b[0m \u001b[0;34m\u001b[0m\u001b[0m\n\u001b[1;32m    824\u001b[0m     \u001b[0;31m# -----------------------------------------------------------------------------\u001b[0m\u001b[0;34m\u001b[0m\u001b[0;34m\u001b[0m\u001b[0m\n",
      "\u001b[0;32m~/anaconda3/envs/pytorch/lib/python3.5/site-packages/ply/lex.py\u001b[0m in \u001b[0;36mvalidate_module\u001b[0;34m(self, module)\u001b[0m\n\u001b[1;32m    842\u001b[0m         \u001b[0mlinen\u001b[0m \u001b[0;34m+=\u001b[0m \u001b[0;36m1\u001b[0m\u001b[0;34m\u001b[0m\u001b[0m\n\u001b[1;32m    843\u001b[0m         \u001b[0;32mfor\u001b[0m \u001b[0mline\u001b[0m \u001b[0;32min\u001b[0m \u001b[0mlines\u001b[0m\u001b[0;34m:\u001b[0m\u001b[0;34m\u001b[0m\u001b[0m\n\u001b[0;32m--> 844\u001b[0;31m             \u001b[0mm\u001b[0m \u001b[0;34m=\u001b[0m \u001b[0mfre\u001b[0m\u001b[0;34m.\u001b[0m\u001b[0mmatch\u001b[0m\u001b[0;34m(\u001b[0m\u001b[0mline\u001b[0m\u001b[0;34m)\u001b[0m\u001b[0;34m\u001b[0m\u001b[0m\n\u001b[0m\u001b[1;32m    845\u001b[0m             \u001b[0;32mif\u001b[0m \u001b[0;32mnot\u001b[0m \u001b[0mm\u001b[0m\u001b[0;34m:\u001b[0m\u001b[0;34m\u001b[0m\u001b[0m\n\u001b[1;32m    846\u001b[0m                 \u001b[0mm\u001b[0m \u001b[0;34m=\u001b[0m \u001b[0msre\u001b[0m\u001b[0;34m.\u001b[0m\u001b[0mmatch\u001b[0m\u001b[0;34m(\u001b[0m\u001b[0mline\u001b[0m\u001b[0;34m)\u001b[0m\u001b[0;34m\u001b[0m\u001b[0m\n",
      "\u001b[0;31mKeyboardInterrupt\u001b[0m: "
     ]
    }
   ],
   "source": [
    "num_refs = 10\n",
    "file_dir = '/home/irteam/users/data/150kJavaScript/train/data_lexed'\n",
    "score_list = []\n",
    "id_cnt = 0\n",
    "str_cnt = 0\n",
    "id_cnt_correct = 0\n",
    "str_cnt_correct =0\n",
    "\n",
    "for i in range(1000):\n",
    "    print(\"====================================================================\")\n",
    "    print(i)\n",
    "    print(\"====================================================================\")\n",
    "    with open(os.path.join(file_dir,'file_%d.txt'%(i+1))) as f:\n",
    "        lines = f.read()\n",
    "    lines = lines.replace(';',';\\n').replace('}','}\\n').replace('{','\\n{').split('\\n')\n",
    "    lines = [x for x in lines if x!=' ']\n",
    "    for i in range(len(lines)-num_refs):\n",
    "        refs = []\n",
    "        for j in range(num_refs):\n",
    "            refs.extend(lex(lines[i+j],'value'))\n",
    "        hyp = lex(lines[i+num_refs])\n",
    "#         if len(hyp)==0:\n",
    "#             continue\n",
    "#         for tok in hyp:\n",
    "#             if tok.type=='ID':\n",
    "#                 id_cnt+=1\n",
    "#                 if tok.value in refs:\n",
    "#                     id_cnt_correct+=1\n",
    "#             elif tok.type=='STRING':\n",
    "#                 str_cnt+=1\n",
    "#                 if tok.value in refs:\n",
    "#                     str_cnt_correct+=1\n",
    "#         score_list.append(cnt*1.0/tot)\n",
    "\n",
    "        ref = lex(lines[i],'value')\n",
    "        refs = [lex(lines[i+j],'value') for j in range(num_refs)]\n",
    "        hyp = lex(lines[i+num_refs],'value')\n",
    "        bleu1=nltk.translate.bleu_score.sentence_bleu(refs,hyp)\n",
    "        score_list.append(bleu1)\n",
    "        if hyp!=['}']:\n",
    "            print(bleu1)\n",
    "#         if (bleu1>0.6):\n",
    "#             print(\"Similar!\")\n",
    "#             print(bleu1)\n",
    "#             print(refs)\n",
    "#             print(' '.join(hyp))\n",
    "#             print('================================================================\\n')"
   ]
  },
  {
   "cell_type": "code",
   "execution_count": null,
   "metadata": {
    "scrolled": true
   },
   "outputs": [],
   "source": [
    "import numpy as np\n",
    "np.mean(np.array(score_list))"
   ]
  },
  {
   "cell_type": "code",
   "execution_count": null,
   "metadata": {},
   "outputs": [],
   "source": [
    "refs"
   ]
  },
  {
   "cell_type": "code",
   "execution_count": null,
   "metadata": {
    "collapsed": true
   },
   "outputs": [],
   "source": [
    "lines2 = lines.replace(';','\\n;').replace('}','}\\n').split('\\n')"
   ]
  },
  {
   "cell_type": "code",
   "execution_count": null,
   "metadata": {},
   "outputs": [],
   "source": [
    "lines2 = [x for x in lines2 if x!=' ']\n",
    "lines2"
   ]
  },
  {
   "cell_type": "code",
   "execution_count": null,
   "metadata": {
    "scrolled": false
   },
   "outputs": [],
   "source": [
    "for i in range(len(lines2)-1):\n",
    "    refs = [lex(lines2[i],'value')]\n",
    "    hyp = lex(lines2[i+1],'value')\n",
    "    bleu1=nltk.translate.bleu_score.sentence_bleu(refs,hyp)\n",
    "    bleu2=nltk.translate.bleu_score.sentence_bleu([hyp],refs[0])\n",
    "    if bleu1>0.1:\n",
    "        print(bleu1)\n",
    "        print(bleu2)\n",
    "        print(' '.join(refs[0]))\n",
    "        print(' '.join(hyp))\n",
    "#         print(' '.join(refs[0]))\n",
    "#         print(' '.join(hyp))\n",
    "        print('=================================================================\\n')"
   ]
  },
  {
   "cell_type": "code",
   "execution_count": null,
   "metadata": {
    "collapsed": true
   },
   "outputs": [],
   "source": [
    "hypos = [hypo]"
   ]
  },
  {
   "cell_type": "code",
   "execution_count": null,
   "metadata": {},
   "outputs": [],
   "source": [
    "nltk.translate.bleu_score.sentence_bleu(references,hypo)"
   ]
  },
  {
   "cell_type": "code",
   "execution_count": null,
   "metadata": {
    "collapsed": true
   },
   "outputs": [],
   "source": []
  },
  {
   "cell_type": "code",
   "execution_count": null,
   "metadata": {
    "collapsed": true
   },
   "outputs": [],
   "source": []
  }
 ],
 "metadata": {
  "kernelspec": {
   "display_name": "Python [conda env:pytorch]",
   "language": "python",
   "name": "conda-env-pytorch-py"
  },
  "language_info": {
   "codemirror_mode": {
    "name": "ipython",
    "version": 3
   },
   "file_extension": ".py",
   "mimetype": "text/x-python",
   "name": "python",
   "nbconvert_exporter": "python",
   "pygments_lexer": "ipython3",
   "version": "3.5.3"
  }
 },
 "nbformat": 4,
 "nbformat_minor": 2
}
