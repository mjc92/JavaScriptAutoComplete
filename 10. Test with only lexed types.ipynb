{
 "cells": [
  {
   "cell_type": "code",
   "execution_count": 1,
   "metadata": {
    "collapsed": true
   },
   "outputs": [],
   "source": [
    "import torch \n",
    "import torch.nn as nn\n",
    "import numpy as np\n",
    "from torch.autograd import Variable\n",
    "from packages.vocab import Vocab\n",
    "from packages.batch import Batch\n",
    "from models.languagemodel import RNNLM"
   ]
  },
  {
   "cell_type": "code",
   "execution_count": 2,
   "metadata": {
    "collapsed": true
   },
   "outputs": [],
   "source": [
    "# Hyper Parameters\n",
    "embed_size = 128\n",
    "hidden_size = 1024\n",
    "num_layers = 1\n",
    "num_epochs = 10\n",
    "num_samples = 1000   # number of words to be sampled\n",
    "batch_size = 60\n",
    "seq_length = 50\n",
    "learning_rate = 0.002"
   ]
  },
  {
   "cell_type": "code",
   "execution_count": 3,
   "metadata": {
    "collapsed": true
   },
   "outputs": [],
   "source": [
    "test_path = '/home/irteam/users/data/150kJavaScript/batch_80_seq_50_type/test/'"
   ]
  },
  {
   "cell_type": "code",
   "execution_count": null,
   "metadata": {
    "collapsed": true
   },
   "outputs": [],
   "source": [
    "# # create file list\n",
    "# out_list = []\n",
    "# for i in range(25000):\n",
    "#     out_list.append('file_%d.txt'%(i+1))\n",
    "# with open(test_path+'list_of_files.txt','w') as f:\n",
    "#     f.write('\\n'.join(out_list))"
   ]
  },
  {
   "cell_type": "code",
   "execution_count": 5,
   "metadata": {},
   "outputs": [],
   "source": [
    "batch = Batch(file_list=test_path,max_in_len=50,max_out_len=50, max_oovs=20)"
   ]
  },
  {
   "cell_type": "code",
   "execution_count": 6,
   "metadata": {
    "collapsed": true
   },
   "outputs": [],
   "source": [
    "w2i = np.load('vocabs/word2idx_no_ids.txt')\n",
    "vocab = Vocab(len(w2i))"
   ]
  },
  {
   "cell_type": "code",
   "execution_count": 7,
   "metadata": {
    "collapsed": true
   },
   "outputs": [],
   "source": [
    "vocab.w2i = np.load('vocabs/word2idx_no_ids.txt')\n",
    "vocab.i2w = np.load('vocabs/idx2word_no_ids.txt')\n",
    "vocab.max_size = len(vocab.w2i)"
   ]
  },
  {
   "cell_type": "code",
   "execution_count": 8,
   "metadata": {},
   "outputs": [
    {
     "data": {
      "text/plain": [
       "RNNLM (\n",
       "  (embed): Embedding(99, 128)\n",
       "  (lstm): LSTM(128, 1024, batch_first=True)\n",
       "  (linear): Linear (1024 -> 99)\n",
       ")"
      ]
     },
     "execution_count": 8,
     "metadata": {},
     "output_type": "execute_result"
    }
   ],
   "source": [
    "model_dir = 'models/rnn_lm_types_epoch_9.pckl'\n",
    "model = torch.load(model_dir)\n",
    "model.cuda()"
   ]
  },
  {
   "cell_type": "code",
   "execution_count": 9,
   "metadata": {
    "collapsed": true
   },
   "outputs": [],
   "source": [
    "# Truncated Backpropagation \n",
    "def detach(states):\n",
    "    return [state.detach() for state in states] "
   ]
  },
  {
   "cell_type": "code",
   "execution_count": 12,
   "metadata": {
    "scrolled": true
   },
   "outputs": [
    {
     "name": "stdout",
     "output_type": "stream",
     "text": [
      "0 files calculated\n",
      "Accuracy so far:0.656\n",
      "\n"
     ]
    },
    {
     "ename": "KeyboardInterrupt",
     "evalue": "",
     "output_type": "error",
     "traceback": [
      "\u001b[0;31m---------------------------------------------------------------------------\u001b[0m",
      "\u001b[0;31mKeyboardInterrupt\u001b[0m                         Traceback (most recent call last)",
      "\u001b[0;32m<ipython-input-12-c7f2472345db>\u001b[0m in \u001b[0;36m<module>\u001b[0;34m()\u001b[0m\n\u001b[1;32m     29\u001b[0m     \u001b[0moutputs\u001b[0m\u001b[0;34m,\u001b[0m \u001b[0mstates\u001b[0m \u001b[0;34m=\u001b[0m \u001b[0mmodel\u001b[0m\u001b[0;34m(\u001b[0m\u001b[0minputs\u001b[0m\u001b[0;34m,\u001b[0m \u001b[0mstates\u001b[0m\u001b[0;34m)\u001b[0m\u001b[0;34m\u001b[0m\u001b[0m\n\u001b[1;32m     30\u001b[0m     \u001b[0mpredicted_outs\u001b[0m \u001b[0;34m=\u001b[0m \u001b[0moutputs\u001b[0m\u001b[0;34m.\u001b[0m\u001b[0mview\u001b[0m\u001b[0;34m(\u001b[0m\u001b[0min_size\u001b[0m\u001b[0;34m,\u001b[0m\u001b[0;34m-\u001b[0m\u001b[0;36m1\u001b[0m\u001b[0;34m,\u001b[0m\u001b[0mlen\u001b[0m\u001b[0;34m(\u001b[0m\u001b[0mvocab\u001b[0m\u001b[0;34m.\u001b[0m\u001b[0mw2i\u001b[0m\u001b[0;34m)\u001b[0m\u001b[0;34m)\u001b[0m\u001b[0;34m.\u001b[0m\u001b[0mmax\u001b[0m\u001b[0;34m(\u001b[0m\u001b[0;36m2\u001b[0m\u001b[0;34m)\u001b[0m\u001b[0;34m[\u001b[0m\u001b[0;36m1\u001b[0m\u001b[0;34m]\u001b[0m\u001b[0;34m\u001b[0m\u001b[0m\n\u001b[0;32m---> 31\u001b[0;31m     \u001b[0mcorrect\u001b[0m\u001b[0;34m=\u001b[0m\u001b[0;34m(\u001b[0m\u001b[0mtargets\u001b[0m\u001b[0;34m==\u001b[0m\u001b[0mpredicted_outs\u001b[0m\u001b[0;34m)\u001b[0m\u001b[0;34m.\u001b[0m\u001b[0mcpu\u001b[0m\u001b[0;34m(\u001b[0m\u001b[0;34m)\u001b[0m\u001b[0;34m.\u001b[0m\u001b[0mdata\u001b[0m\u001b[0;34m.\u001b[0m\u001b[0mnumpy\u001b[0m\u001b[0;34m(\u001b[0m\u001b[0;34m)\u001b[0m\u001b[0;34m\u001b[0m\u001b[0m\n\u001b[0m\u001b[1;32m     32\u001b[0m     \u001b[0mtotal_outs\u001b[0m\u001b[0;34m+=\u001b[0m\u001b[0mtargets\u001b[0m\u001b[0;34m.\u001b[0m\u001b[0msize\u001b[0m\u001b[0;34m(\u001b[0m\u001b[0;36m0\u001b[0m\u001b[0;34m)\u001b[0m\u001b[0;34m*\u001b[0m\u001b[0mtargets\u001b[0m\u001b[0;34m.\u001b[0m\u001b[0msize\u001b[0m\u001b[0;34m(\u001b[0m\u001b[0;36m1\u001b[0m\u001b[0;34m)\u001b[0m\u001b[0;34m\u001b[0m\u001b[0m\n\u001b[1;32m     33\u001b[0m     \u001b[0mtotal_correct\u001b[0m\u001b[0;34m+=\u001b[0m\u001b[0mnp\u001b[0m\u001b[0;34m.\u001b[0m\u001b[0msum\u001b[0m\u001b[0;34m(\u001b[0m\u001b[0mcorrect\u001b[0m\u001b[0;34m)\u001b[0m\u001b[0;34m\u001b[0m\u001b[0m\n",
      "\u001b[0;32m~/anaconda3/envs/pytorch/lib/python3.5/site-packages/torch/autograd/variable.py\u001b[0m in \u001b[0;36mcpu\u001b[0;34m(self)\u001b[0m\n\u001b[1;32m    252\u001b[0m \u001b[0;34m\u001b[0m\u001b[0m\n\u001b[1;32m    253\u001b[0m     \u001b[0;32mdef\u001b[0m \u001b[0mcpu\u001b[0m\u001b[0;34m(\u001b[0m\u001b[0mself\u001b[0m\u001b[0;34m)\u001b[0m\u001b[0;34m:\u001b[0m\u001b[0;34m\u001b[0m\u001b[0m\n\u001b[0;32m--> 254\u001b[0;31m         \u001b[0;32mreturn\u001b[0m \u001b[0mself\u001b[0m\u001b[0;34m.\u001b[0m\u001b[0mtype\u001b[0m\u001b[0;34m(\u001b[0m\u001b[0mgetattr\u001b[0m\u001b[0;34m(\u001b[0m\u001b[0mtorch\u001b[0m\u001b[0;34m,\u001b[0m \u001b[0mtype\u001b[0m\u001b[0;34m(\u001b[0m\u001b[0mself\u001b[0m\u001b[0;34m.\u001b[0m\u001b[0mdata\u001b[0m\u001b[0;34m)\u001b[0m\u001b[0;34m.\u001b[0m\u001b[0m__name__\u001b[0m\u001b[0;34m)\u001b[0m\u001b[0;34m)\u001b[0m\u001b[0;34m\u001b[0m\u001b[0m\n\u001b[0m\u001b[1;32m    255\u001b[0m \u001b[0;34m\u001b[0m\u001b[0m\n\u001b[1;32m    256\u001b[0m     \u001b[0;32mdef\u001b[0m \u001b[0mdouble\u001b[0m\u001b[0;34m(\u001b[0m\u001b[0mself\u001b[0m\u001b[0;34m)\u001b[0m\u001b[0;34m:\u001b[0m\u001b[0;34m\u001b[0m\u001b[0m\n",
      "\u001b[0;32m~/anaconda3/envs/pytorch/lib/python3.5/site-packages/torch/autograd/variable.py\u001b[0m in \u001b[0;36mtype\u001b[0;34m(self, t)\u001b[0m\n\u001b[1;32m    236\u001b[0m     \u001b[0;32mdef\u001b[0m \u001b[0mtype\u001b[0m\u001b[0;34m(\u001b[0m\u001b[0mself\u001b[0m\u001b[0;34m,\u001b[0m \u001b[0mt\u001b[0m\u001b[0;34m)\u001b[0m\u001b[0;34m:\u001b[0m\u001b[0;34m\u001b[0m\u001b[0m\n\u001b[1;32m    237\u001b[0m         \u001b[0;32mif\u001b[0m \u001b[0mt\u001b[0m \u001b[0;34m!=\u001b[0m \u001b[0mtype\u001b[0m\u001b[0;34m(\u001b[0m\u001b[0mself\u001b[0m\u001b[0;34m.\u001b[0m\u001b[0mdata\u001b[0m\u001b[0;34m)\u001b[0m\u001b[0;34m:\u001b[0m\u001b[0;34m\u001b[0m\u001b[0m\n\u001b[0;32m--> 238\u001b[0;31m             \u001b[0;32mreturn\u001b[0m \u001b[0mType\u001b[0m\u001b[0;34m.\u001b[0m\u001b[0mapply\u001b[0m\u001b[0;34m(\u001b[0m\u001b[0mself\u001b[0m\u001b[0;34m,\u001b[0m \u001b[0mt\u001b[0m\u001b[0;34m)\u001b[0m\u001b[0;34m\u001b[0m\u001b[0m\n\u001b[0m\u001b[1;32m    239\u001b[0m         \u001b[0;32mreturn\u001b[0m \u001b[0mself\u001b[0m\u001b[0;34m\u001b[0m\u001b[0m\n\u001b[1;32m    240\u001b[0m \u001b[0;34m\u001b[0m\u001b[0m\n",
      "\u001b[0;32m~/anaconda3/envs/pytorch/lib/python3.5/site-packages/torch/autograd/_functions/tensor.py\u001b[0m in \u001b[0;36mforward\u001b[0;34m(ctx, i, dest_type)\u001b[0m\n\u001b[1;32m    130\u001b[0m     \u001b[0;32mdef\u001b[0m \u001b[0mforward\u001b[0m\u001b[0;34m(\u001b[0m\u001b[0mctx\u001b[0m\u001b[0;34m,\u001b[0m \u001b[0mi\u001b[0m\u001b[0;34m,\u001b[0m \u001b[0mdest_type\u001b[0m\u001b[0;34m)\u001b[0m\u001b[0;34m:\u001b[0m\u001b[0;34m\u001b[0m\u001b[0m\n\u001b[1;32m    131\u001b[0m         \u001b[0mctx\u001b[0m\u001b[0;34m.\u001b[0m\u001b[0minput_type\u001b[0m \u001b[0;34m=\u001b[0m \u001b[0mtype\u001b[0m\u001b[0;34m(\u001b[0m\u001b[0mi\u001b[0m\u001b[0;34m)\u001b[0m\u001b[0;34m\u001b[0m\u001b[0m\n\u001b[0;32m--> 132\u001b[0;31m         \u001b[0;32mreturn\u001b[0m \u001b[0mi\u001b[0m\u001b[0;34m.\u001b[0m\u001b[0mtype\u001b[0m\u001b[0;34m(\u001b[0m\u001b[0mdest_type\u001b[0m\u001b[0;34m)\u001b[0m\u001b[0;34m\u001b[0m\u001b[0m\n\u001b[0m\u001b[1;32m    133\u001b[0m \u001b[0;34m\u001b[0m\u001b[0m\n\u001b[1;32m    134\u001b[0m     \u001b[0;34m@\u001b[0m\u001b[0mstaticmethod\u001b[0m\u001b[0;34m\u001b[0m\u001b[0m\n",
      "\u001b[0;32m~/anaconda3/envs/pytorch/lib/python3.5/site-packages/torch/cuda/__init__.py\u001b[0m in \u001b[0;36mtype\u001b[0;34m(self, *args, **kwargs)\u001b[0m\n\u001b[1;32m    276\u001b[0m     \u001b[0;32mdef\u001b[0m \u001b[0mtype\u001b[0m\u001b[0;34m(\u001b[0m\u001b[0mself\u001b[0m\u001b[0;34m,\u001b[0m \u001b[0;34m*\u001b[0m\u001b[0margs\u001b[0m\u001b[0;34m,\u001b[0m \u001b[0;34m**\u001b[0m\u001b[0mkwargs\u001b[0m\u001b[0;34m)\u001b[0m\u001b[0;34m:\u001b[0m\u001b[0;34m\u001b[0m\u001b[0m\n\u001b[1;32m    277\u001b[0m         \u001b[0;32mwith\u001b[0m \u001b[0mdevice\u001b[0m\u001b[0;34m(\u001b[0m\u001b[0mself\u001b[0m\u001b[0;34m.\u001b[0m\u001b[0mget_device\u001b[0m\u001b[0;34m(\u001b[0m\u001b[0;34m)\u001b[0m\u001b[0;34m)\u001b[0m\u001b[0;34m:\u001b[0m\u001b[0;34m\u001b[0m\u001b[0m\n\u001b[0;32m--> 278\u001b[0;31m             \u001b[0;32mreturn\u001b[0m \u001b[0msuper\u001b[0m\u001b[0;34m(\u001b[0m\u001b[0m_CudaBase\u001b[0m\u001b[0;34m,\u001b[0m \u001b[0mself\u001b[0m\u001b[0;34m)\u001b[0m\u001b[0;34m.\u001b[0m\u001b[0mtype\u001b[0m\u001b[0;34m(\u001b[0m\u001b[0;34m*\u001b[0m\u001b[0margs\u001b[0m\u001b[0;34m,\u001b[0m \u001b[0;34m**\u001b[0m\u001b[0mkwargs\u001b[0m\u001b[0;34m)\u001b[0m\u001b[0;34m\u001b[0m\u001b[0m\n\u001b[0m\u001b[1;32m    279\u001b[0m \u001b[0;34m\u001b[0m\u001b[0m\n\u001b[1;32m    280\u001b[0m     \u001b[0m__new__\u001b[0m \u001b[0;34m=\u001b[0m \u001b[0m_lazy_new\u001b[0m\u001b[0;34m\u001b[0m\u001b[0m\n",
      "\u001b[0;32m~/anaconda3/envs/pytorch/lib/python3.5/site-packages/torch/_utils.py\u001b[0m in \u001b[0;36m_type\u001b[0;34m(self, new_type, async)\u001b[0m\n\u001b[1;32m     32\u001b[0m     \u001b[0;32mif\u001b[0m \u001b[0mnew_type\u001b[0m\u001b[0;34m.\u001b[0m\u001b[0mis_sparse\u001b[0m\u001b[0;34m:\u001b[0m\u001b[0;34m\u001b[0m\u001b[0m\n\u001b[1;32m     33\u001b[0m         \u001b[0;32mraise\u001b[0m \u001b[0mRuntimeError\u001b[0m\u001b[0;34m(\u001b[0m\u001b[0;34m\"Cannot cast dense tensor to sparse tensor\"\u001b[0m\u001b[0;34m)\u001b[0m\u001b[0;34m\u001b[0m\u001b[0m\n\u001b[0;32m---> 34\u001b[0;31m     \u001b[0;32mreturn\u001b[0m \u001b[0mnew_type\u001b[0m\u001b[0;34m(\u001b[0m\u001b[0mself\u001b[0m\u001b[0;34m.\u001b[0m\u001b[0msize\u001b[0m\u001b[0;34m(\u001b[0m\u001b[0;34m)\u001b[0m\u001b[0;34m)\u001b[0m\u001b[0;34m.\u001b[0m\u001b[0mcopy_\u001b[0m\u001b[0;34m(\u001b[0m\u001b[0mself\u001b[0m\u001b[0;34m,\u001b[0m \u001b[0masync\u001b[0m\u001b[0;34m)\u001b[0m\u001b[0;34m\u001b[0m\u001b[0m\n\u001b[0m\u001b[1;32m     35\u001b[0m \u001b[0;34m\u001b[0m\u001b[0m\n\u001b[1;32m     36\u001b[0m \u001b[0;34m\u001b[0m\u001b[0m\n",
      "\u001b[0;31mKeyboardInterrupt\u001b[0m: "
     ]
    }
   ],
   "source": [
    "total_outs = 0\n",
    "total_correct = 0\n",
    "\n",
    "with open(test_path+'list_of_files.txt') as f:\n",
    "    test_files = f.readlines()\n",
    "for i, file in enumerate(test_files):\n",
    "    with open(test_path+file.strip()) as f:\n",
    "        lines = f.readlines()\n",
    "    out_lines = []\n",
    "    for line in lines:\n",
    "        line = line.strip()\n",
    "        out_lines.append(vocab.word_list_to_idx_list(line.split()))\n",
    "    out_lines = out_lines[0]\n",
    "    num_lines = int(len(out_lines)/seq_length)\n",
    "    out_lines = out_lines[:num_lines*seq_length]\n",
    "    out_lines = np.array(out_lines).reshape([-1,seq_length])\n",
    "    in_size = min(num_lines,batch_size)\n",
    "    ids = torch.LongTensor(out_lines[:in_size])\n",
    "    states = (Variable(torch.zeros(num_layers, in_size, hidden_size)).cuda(),\n",
    "              Variable(torch.zeros(num_layers, in_size, hidden_size)).cuda())\n",
    "\n",
    "    #     for i in range(0, ids.size(1) - seq_length, seq_length):\n",
    "    #         # Get batch inputs and targets\n",
    "    inputs = Variable(ids[:, :seq_length-1]).cuda()\n",
    "    targets = Variable(ids[:, 1:seq_length].contiguous()).cuda()\n",
    "\n",
    "    # Forward + Backward + Optimize\n",
    "    states = detach(states)\n",
    "    outputs, states = model(inputs, states)\n",
    "    predicted_outs = outputs.view(in_size,-1,len(vocab.w2i)).max(2)[1]\n",
    "    correct=(targets==predicted_outs).cpu().data.numpy()\n",
    "    total_outs+=targets.size(0)*targets.size(1)\n",
    "    total_correct+=np.sum(correct)\n",
    "    if i%1000==0:\n",
    "        print(\"%d files calculated\\nAccuracy so far:%1.3f\\n\" \n",
    "              %(i,total_correct*1.0/total_outs))"
   ]
  },
  {
   "cell_type": "code",
   "execution_count": 52,
   "metadata": {},
   "outputs": [
    {
     "data": {
      "text/plain": [
       "0.73313434217224305"
      ]
     },
     "execution_count": 52,
     "metadata": {},
     "output_type": "execute_result"
    }
   ],
   "source": [
    "total_correct*1.0/total_outs"
   ]
  },
  {
   "cell_type": "code",
   "execution_count": 46,
   "metadata": {},
   "outputs": [],
   "source": [
    "inputs_np = inputs.data.cpu().numpy()\n",
    "pred_np = predicted_outs.cpu().data.numpy()\n",
    "tar_np = targets.cpu().data.numpy()"
   ]
  },
  {
   "cell_type": "code",
   "execution_count": 47,
   "metadata": {},
   "outputs": [],
   "source": [
    "# visualize results\n",
    "token_dict = np.load('vocabs/type2token.npy').item()\n",
    "token_dict['ID']='ID'\n",
    "def to_tokens(arr,token_dict):\n",
    "    out_list = []\n",
    "    for item in arr:\n",
    "        if item in token_dict:\n",
    "            out_list.append(token_dict[item])\n",
    "        else:\n",
    "            out_list.append(item)\n",
    "#         if out_list[-1]==';':\n",
    "#             out_list.append('\\n')\n",
    "    return out_list"
   ]
  },
  {
   "cell_type": "code",
   "execution_count": 48,
   "metadata": {
    "scrolled": true
   },
   "outputs": [
    {
     "name": "stdout",
     "output_type": "stream",
     "text": [
      "ID]=ID;ID[ID+0]=ID;ID[ID+0]=ID;}};})();;(function(){ID.ID.ID=function(ID){var\n",
      "<UNK>.ID()*0,ID=ID.ID,ID=ID.ID,ID;for(ID=0;ID<ID;ID+=0){ID[ID]+=ID;ID[ID+0\n",
      "<UNK>;ID[ID+0]+=ID;}};ID.ID.ID(ID.ID,\"iframe\",0,null,ID.ID.ID);})();;(function(){ID\n",
      "<UNK>ID=function(ID){varID=ID.ID,ID=ID.ID,ID;for(ID=0;ID<ID;ID+=0){ID[ID]=0-ID[ID]\n",
      "<UNK>ID+0]=0-ID[ID+0];ID[ID+0]=0-ID[ID+0];}};})();;(function(){functionID()\n",
      "<UNK>ID=0;this.ID=0;this.ID=0;this.ID=0;this.ID=null;}varID=[0,0,0,0,0,0,0,0\n",
      "<UNK>0,0,0,0,0,0,0,0,0,0,0,0,0,0,0,0,0,0,0,0,0,0,0,0,\n",
      "<UNK>,0,0,0,0,0,0,0,0,0,0,0,0,0,0,0,0,0,0,0,0,0,0,0,0\n",
      "<UNK>0,0,0,0,0,0,0,0,0,0,0,0,0,0,0,0,0,0,0,0,0,0,0,0,\n",
      "<UNK>,0,0,0,0,0,0,0,0,0,0,0,0,0,0,0,0,0,0,0,0,0,0,0,0\n",
      "<UNK>0,0,0,0,0,0,0,0,0,0,0,0,0,0,0,0,0,0,0,0,0,0,0,0,\n",
      "<UNK>,0,0,0,0,0,0,0,0,0,0,0,0,0,0,0,0,0,0,0,0,0,0,0,0\n",
      "<UNK>0,0,0,0,0,0,0,0,0,0,0,0,0,0,0,0,0,0,0,0,0,0,0,0,\n",
      "<UNK>,0,0,0,0,0,0,0,0,0,0,0,0,0,0,0,0,0,0,0,0,0,0,0,0\n",
      "<UNK>0,0,0,0,0,0,0,0,0,0,0,0,0,0,0,0,0,0,0,0,0,0,0,0,\n",
      "<UNK>,0,0,0,0,0,0,0,0,0,0,0,0,0,0,0,0];varID=[0,0,0,0,0,\n",
      "<UNK>,0,0,0,0,0,0,0,0,0,0,0,0,0,0,0,0,0,0,0,0,0,0,0,0\n",
      "<UNK>0,0,0,0,0,0,0,0,0,0,0,0,0,0,0,0,0,0,0,0,0,0,0,0,\n",
      "<UNK>,0,0,0,0,0,0,0,0,0,0,0,0,0,0,0,0,0,0,0,0,0,0,0,0\n",
      "<UNK>0,0,0,0,0,0,0,0,0,0,0,0,0,0,0,0,0,0,0,0,0,0,0,0,\n",
      "<UNK>,0,0,0,0,0,0,0,0,0,0,0,0,0,0,0,0,0,0,0,0,0,0,0,0\n",
      "<UNK>0,0,0,0,0,0,0,0,0,0,0,0,0,0,0,0,0,0,0,0,0,0,0,0,\n",
      "<UNK>,0,0,0,0,0,0,0,0,0,0,0,0,0,0,0,0,0,0,0,0,0,0,0,0\n",
      "<UNK>0,0,0,0,0,0,0,0,0,0,0,0,0,0,0,0,0,0,0,0,0,0,0,0,\n",
      "<UNK>,0,0,0,0,0,0,0,0,0,0,0,0,0,0,0,0,0,0,0,0,0,0,0,0\n",
      "<UNK>0,0,0,0,0,0,0,0,0,0,0,0,0,0,0,0,0,0,0];functionID(ID,ID){var\n",
      "<UNK>.ID,ID=ID.ID,ID=ID.ID;varID,ID,ID,ID,ID,ID,ID,ID,ID,ID,ID,ID,ID,ID,ID,ID,\n",
      "<UNK>,ID,ID,ID,ID,ID,ID;varID=ID+ID+0,ID=ID-0,ID=ID-0,ID=ID+0,ID=ID*(ID+0\n",
      "<UNK>,ID=newID(),ID=null,ID=ID,ID=null,ID=null,ID=ID[ID],ID=ID[ID];for(ID=0;ID<ID;\n",
      "<UNK>{ID=ID.ID=newID();if(ID==ID){ID=ID;}}ID.ID=ID;ID=ID=0;for(ID=0;ID<ID;ID\n",
      "<UNK>ID=ID=ID=ID=ID=ID=ID=ID=0;ID=ID*(ID=ID[ID]);ID=ID*(ID=ID[ID+0]);ID=\n",
      "<UNK>ID=ID[ID+0]);ID=ID*(ID=ID[ID+0]);ID+=ID*ID;ID+=ID*ID;ID+=ID*ID;ID+=ID*ID\n",
      "<UNK>ID;for(ID=0;ID<ID;ID++){ID.ID=ID;ID.ID=ID;ID.ID=ID;ID.ID=ID;ID=ID.ID;}for\n",
      "<UNK>0;ID<ID;ID++){ID=ID+((ID<ID?ID:ID)<<0);ID+=(ID.ID=(ID=ID[ID]))*(ID=\n",
      "<UNK>);ID+=(ID.ID=(ID=ID[ID+0]))*ID;ID+=(ID.ID=(ID=ID[ID+0]))*ID;ID+=(ID\n",
      "<UNK>(ID=ID[ID+0]))*ID;ID+=ID;ID+=ID;ID+=ID;ID+=ID;ID=ID.ID;}ID=ID;ID=ID;for(ID\n",
      "<UNK>ID<ID;ID++){ID[ID+0]=ID=(ID*ID)>>ID;if(ID!==0){ID=0/ID;ID[ID]=((ID*ID\n",
      "<UNK>)*ID;ID[ID+0]=((ID*ID)>>ID)*ID;ID[ID+0]=((ID*ID)>>ID)*ID;}else{ID[ID\n",
      "<UNK>[ID+0]=ID[ID+0]=0;}ID-=ID;ID-=ID;ID-=ID;ID-=ID;ID-=ID.ID;ID-=ID.ID;ID-=ID.\n",
      "<UNK>-=ID.ID;ID=(ID+((ID=ID+ID+0)<ID?ID:ID))<<0;ID+=(ID.ID=ID[ID]);ID+=(ID\n",
      "<UNK>ID[ID+0]);ID+=(ID.ID=ID[ID+0]);ID+=(ID.ID=ID[ID+0]);ID+=ID;ID+=ID;ID+=\n",
      "<UNK>+=ID;ID=ID.ID;ID+=(ID=ID.ID);ID+=(ID=ID.ID);ID+=(ID=ID.ID);ID+=(ID=ID.ID)\n",
      "<UNK>ID;ID-=ID;ID-=ID;ID-=ID;ID=ID.ID;ID+=0;}ID+=ID;}for(ID=0;ID<ID;ID++){ID=ID=\n",
      "<UNK>=ID=ID=ID=ID=0;ID=ID<<0;ID=ID*(ID=ID[ID]);ID=ID*(ID=ID[ID+0]);ID=ID\n",
      "<UNK>=ID[ID+0]);ID=ID*(ID=ID[ID+0]);ID+=ID*ID;ID+=ID*ID;ID+=ID*ID;ID+=ID*ID;\n",
      "<UNK>;for(ID=0;ID<ID;ID++){ID.ID=ID;ID.ID=ID;ID.ID=ID;ID.ID=ID;ID=ID.ID;}ID=\n",
      "<UNK>(ID=0;ID<=ID;ID++){ID=(ID+ID)<<0;ID+=(ID.ID=(ID=ID[ID]))*(ID=ID-ID);\n",
      "<UNK>ID.ID=(ID=ID[ID+0]))*ID;ID+=(ID.ID=(ID=ID[ID+0]))*ID;ID+=(ID.ID=(ID\n",
      "<UNK>ID+0]))*ID;ID+=ID;ID+=ID;ID+=ID;ID+=ID;ID=ID.ID;if(ID<ID){ID+=ID;}}ID=ID;\n",
      "<UNK>;ID=ID;for(ID=0;ID<ID;ID++){ID=ID<<0;ID[ID+0]=ID=(ID*ID)>>ID;if(ID>0)\n",
      "<UNK>0/ID;ID[ID]=((ID*ID)>>ID)*ID;ID[ID+0]=((ID*ID)>>ID)*ID;ID[ID+0]=(\n",
      "<UNK>ID)>>ID)*ID;}else{ID[ID]=ID[ID+0]=ID[ID+0]=0;}ID-=ID;ID-=ID;ID-=ID;ID-=ID\n",
      "<UNK>ID.ID;ID-=ID.ID;ID-=ID.ID;ID-=ID.ID;ID=(ID+(((ID=ID+ID)<ID?ID:ID)*ID))<<\n",
      "<UNK>+=(ID+=(ID.ID=ID[ID]));ID+=(ID+=(ID.ID=ID[ID+0]));ID+=(ID+=(ID.ID=ID[ID\n",
      "<UNK>));ID+=(ID+=(ID.ID=ID[ID+0]));ID=ID.ID;ID+=(ID=ID.ID);ID+=(ID=ID.ID);\n",
      "<UNK>ID=ID.ID);ID+=(ID=ID.ID);ID-=ID;ID-=ID;ID-=ID;ID-=ID;ID=ID.ID;ID+=ID;}}}ID.\n",
      "<UNK>=functionID(ID){varID=ID.ID(this.ID());if(ID>0){ID(ID,ID);}};ID.ID.ID(ID.ID,\n",
      "<UNK>,null,ID.ID.ID);})();;(function(){functionID(ID,ID,ID){varID=(ID*ID.ID+ID)*0;varID\n",
      "<UNK>;ID.ID(ID.ID[ID++],ID.ID[ID++],ID.ID[ID++],ID.ID[ID++]);returnID;}functionID(ID,ID\n",
      "<UNK>ID.ID(ID.ID(ID[0]-ID[0],0)+ID.ID(ID[0]-ID[0],0)+ID.ID(ID[0]-ID\n"
     ]
    }
   ],
   "source": [
    "for line in inputs_np:\n",
    "    print(''.join(to_tokens(to_tokens(line,vocab.i2w),token_dict)))"
   ]
  },
  {
   "cell_type": "code",
   "execution_count": 51,
   "metadata": {
    "scrolled": true
   },
   "outputs": [
    {
     "name": "stdout",
     "output_type": "stream",
     "text": [
      "]=ID;ID[ID+0]=ID;ID[ID+0]=ID;}};})();;(function(){ID.ID.ID=function(ID){varID\n",
      ".=ID;}.ID]0]=ID;ID[ID+0]=ID;IDIDIDID,();IDvarfunction(ID{var.ID=ID=function(ID){varID\n",
      "\n",
      "\n",
      ".ID()*0,ID=ID.ID,ID=ID.ID,ID;for(ID=0;ID<ID;ID+=0){ID[ID]+=ID;ID[ID+0]\n",
      "classID(ID;0)ID=ID.ID(ID=ID.ID,ID=if(ID=0;ID<ID;ID++0){ID=ID]=ID[}[ID]0]\n",
      "\n",
      "\n",
      ";ID[ID+0]+=ID;}};ID.ID.ID(ID.ID,\"iframe\",0,null,ID.ID.ID);})();;(function(){ID.\n",
      "class}.ID]0]=ID;}}returnID.ID=ID=ID,ID.ID,ID)ID,null)ID)ID);ID););<EOS>IDfunction(ID{var.\n",
      "\n",
      "\n",
      "ID=function(ID){varID=ID.ID,ID=ID.ID,ID;for(ID=0;ID<ID;ID+=0){ID[ID]=0-ID[ID];\n",
      "class.ID(ID){varID=ID.ID(ID=ID.ID,ID=if(ID=0;ID<ID;ID++0){ID=ID]=ID;([ID];\n",
      "\n",
      "\n",
      "ID+0]=0-ID[ID+0];ID[ID+0]=0-ID[ID+0];}};})();;(function(){functionID(){\n",
      "class.\"iframe\")=ID;ID[ID+0];ID[ID+0]=ID;ID[ID+0];IDelse}ID,;);IDvarfunction(ID{varID(ID{\n",
      "\n",
      "\n",
      "ID=0;this.ID=0;this.ID=0;this.ID=0;this.ID=null;}varID=[0,0,0,0,0,0,0,0,\n",
      "class.ID;ID.ID=0;this.ID=0;this.ID=0;this.ID=0;this;ID=ID],0,0,0,0,0,0,0,\n",
      "\n",
      "\n",
      "0,0,0,0,0,0,0,0,0,0,0,0,0,0,0,0,0,0,0,0,0,0,0,0,0\n",
      "class,0]0,0,0,0,0,0,0,0,0,0,0,0,0,0,0,0,0,0,0,0,0,0,0\n",
      "\n",
      "\n",
      ",0,0,0,0,0,0,0,0,0,0,0,0,0,0,0,0,0,0,0,0,0,0,0,0,\n",
      "classID,0,0,0,0,0,0,0,0,0,0,0,0,0,0,0,0,0,0,0,0,0,0,0,\n",
      "\n",
      "\n",
      "0,0,0,0,0,0,0,0,0,0,0,0,0,0,0,0,0,0,0,0,0,0,0,0,0\n",
      "class,0]0,0,0,0,0,0,0,0,0,0,0,0,0,0,0,0,0,0,0,0,0,0,0\n",
      "\n",
      "\n",
      ",0,0,0,0,0,0,0,0,0,0,0,0,0,0,0,0,0,0,0,0,0,0,0,0,\n",
      "classID,0,0,0,0,0,0,0,0,0,0,0,0,0,0,0,0,0,0,0,0,0,0,0,\n",
      "\n",
      "\n",
      "0,0,0,0,0,0,0,0,0,0,0,0,0,0,0,0,0,0,0,0,0,0,0,0,0\n",
      "class,0]0,0,0,0,0,0,0,0,0,0,0,0,0,0,0,0,0,0,0,0,0,0,0\n",
      "\n",
      "\n",
      ",0,0,0,0,0,0,0,0,0,0,0,0,0,0,0,0,0,0,0,0,0,0,0,0,\n",
      "classID,0,0,0,0,0,0,0,0,0,0,0,0,0,0,0,0,0,0,0,0,0,0,0,\n",
      "\n",
      "\n",
      "0,0,0,0,0,0,0,0,0,0,0,0,0,0,0,0,0,0,0,0,0,0,0,0,0\n",
      "class,0]0,0,0,0,0,0,0,0,0,0,0,0,0,0,0,0,0,0,0,0,0,0,0\n",
      "\n",
      "\n",
      ",0,0,0,0,0,0,0,0,0,0,0,0,0,0,0,0,0,0,0,0,0,0,0,0,\n",
      "classID,0,0,0,0,0,0,0,0,0,0,0,0,0,0,0,0,0,0,0,0,0,0,0,\n",
      "\n",
      "\n",
      "0,0,0,0,0,0,0,0,0,0,0,0,0,0,0,0,0,0,0,0,0,0,0,0,0\n",
      "class,0]0,0,0,0,0,0,0,0,0,0,0,0,0,0,0,0,0,0,0,0,0,0,0\n",
      "\n",
      "\n",
      ",0,0,0,0,0,0,0,0,0,0,0,0,0,0,0,0];varID=[0,0,0,0,0,0\n",
      "classID,0,0,0,0,0,0,0,0,0,0,0,0,0,0,0,,IDID=[0,0,0,0,0,0\n",
      "\n",
      "\n",
      ",0,0,0,0,0,0,0,0,0,0,0,0,0,0,0,0,0,0,0,0,0,0,0,0,\n",
      "classID,0,0,0,0,0,0,0,0,0,0,0,0,0,0,0,0,0,0,0,0,0,0,0,\n",
      "\n",
      "\n",
      "0,0,0,0,0,0,0,0,0,0,0,0,0,0,0,0,0,0,0,0,0,0,0,0,0\n",
      "class,0]0,0,0,0,0,0,0,0,0,0,0,0,0,0,0,0,0,0,0,0,0,0,0\n",
      "\n",
      "\n",
      ",0,0,0,0,0,0,0,0,0,0,0,0,0,0,0,0,0,0,0,0,0,0,0,0,\n",
      "classID,0,0,0,0,0,0,0,0,0,0,0,0,0,0,0,0,0,0,0,0,0,0,0,\n",
      "\n",
      "\n",
      "0,0,0,0,0,0,0,0,0,0,0,0,0,0,0,0,0,0,0,0,0,0,0,0,0\n",
      "class,0]0,0,0,0,0,0,0,0,0,0,0,0,0,0,0,0,0,0,0,0,0,0,0\n",
      "\n",
      "\n",
      ",0,0,0,0,0,0,0,0,0,0,0,0,0,0,0,0,0,0,0,0,0,0,0,0,\n",
      "classID,0,0,0,0,0,0,0,0,0,0,0,0,0,0,0,0,0,0,0,0,0,0,0,\n",
      "\n",
      "\n",
      "0,0,0,0,0,0,0,0,0,0,0,0,0,0,0,0,0,0,0,0,0,0,0,0,0\n",
      "class,0]0,0,0,0,0,0,0,0,0,0,0,0,0,0,0,0,0,0,0,0,0,0,0\n",
      "\n",
      "\n",
      ",0,0,0,0,0,0,0,0,0,0,0,0,0,0,0,0,0,0,0,0,0,0,0,0,\n",
      "classID,0,0,0,0,0,0,0,0,0,0,0,0,0,0,0,0,0,0,0,0,0,0,0,\n",
      "\n",
      "\n",
      "0,0,0,0,0,0,0,0,0,0,0,0,0,0,0,0,0,0,0,0,0,0,0,0,0\n",
      "class,0]0,0,0,0,0,0,0,0,0,0,0,0,0,0,0,0,0,0,0,0,0,0,0\n",
      "\n",
      "\n",
      ",0,0,0,0,0,0,0,0,0,0,0,0,0,0,0,0,0,0,0,0,0,0,0,0,\n",
      "classID,0,0,0,0,0,0,0,0,0,0,0,0,0,0,0,0,0,0,0,0,0,0,0,\n",
      "\n",
      "\n",
      "0,0,0,0,0,0,0,0,0,0,0,0,0,0,0,0,0,0,0];functionID(ID,ID){varID\n",
      "class,0]0,0,0,0,0,0,0,0,0,0,0,0,0,0,0,0,0,,IDID(ID)ID){varID\n",
      "\n",
      "\n",
      ".ID,ID=ID.ID,ID=ID.ID;varID,ID,ID,ID,ID,ID,ID,ID,ID,ID,ID,ID,ID,ID,ID,ID,ID\n",
      "classID(ID=ID.ID,ID=ID.ID,IDID=ID,ID,ID,ID,ID,ID,ID,ID,ID,ID,ID,ID,ID,ID,ID,ID\n",
      "\n",
      "\n",
      ",ID,ID,ID,ID,ID,ID;varID=ID+ID+0,ID=ID-0,ID=ID-0,ID=ID+0,ID=ID*(ID+0)\n",
      "classID:ID,ID,ID,ID,ID,ifID=ID.ID;ID;ID=ID.0,ID=ID-0,ID=ID-0;ID=ID+IDID-0)\n",
      "\n",
      "\n",
      ",ID=newID(),ID=null,ID=ID,ID=null,ID=null,ID=ID[ID],ID=ID[ID];for(ID=0;ID<ID;ID\n",
      "classID:IDID(\"iframe\",ID=new,ID=null.ID=ID,ID=null,ID=null.0],ID=ID[ID],if(ID=0;ID<ID;ID\n",
      "\n",
      "\n",
      "{ID=ID.ID=newID();if(ID==ID){ID=ID;}}ID.ID=ID;ID=ID=0;for(ID=0;ID<ID;ID++\n",
      "classID.ID.ID(IDID(ID;ID(ID.\"iframe\"){ID=ID.}elseif=ID(ID;ID.ID.ID;ID(ID=0;ID<ID;ID++\n",
      "\n",
      "\n",
      "ID=ID=ID=ID=ID=ID=ID=ID=0;ID=ID*(ID=ID[ID]);ID=ID*(ID=ID[ID+0]);ID=ID\n",
      "class.ID.ID=null=null=ID=ID=ID=ID;return=ID=IDID=ID[ID]);ID=ID*IDID=ID[ID]0]);ID=ID\n",
      "\n",
      "\n",
      "ID=ID[ID+0]);ID=ID*(ID=ID[ID+0]);ID+=ID*ID;ID+=ID*ID;ID+=ID*ID;ID+=ID*ID;\n",
      "class.ID.ID]0];)}++ID.(ID-ID[ID+0]);ID=ID*ID;ID+=ID*ID;ID=ID*ID;ID=ID*ID;\n",
      "\n",
      "\n",
      "ID;for(ID=0;ID<ID;ID++){ID.ID=ID;ID.ID=ID;ID.ID=ID;ID.ID=ID;ID=ID.ID;}for(\n",
      "class.}(ID=0;ID<ID;ID++){ID=ID(ID[ID.ID=ID;ID.ID=ID;ID.ID=ID;ID.ID.ID;}if(\n",
      "\n",
      "\n",
      "0;ID<ID;ID++){ID=ID+((ID<ID?ID:ID)<<0);ID+=(ID.ID=(ID=ID[ID]))*(ID=ID\n",
      "class,ID<ID.ID++){ID=ID[IDIDID[0?ID:ID)*0)|ID=IDID?ID(IDID=ID[ID]))*(ID=ID\n",
      "\n",
      "\n",
      ");ID+=(ID.ID=(ID=ID[ID+0]))*ID;ID+=(ID.ID=(ID=ID[ID+0]))*ID;ID+=(ID.\n",
      "class{}.\"iframe\"ID.ID(IDID=ID[ID]0]));0,ID+=IDID.ID=(ID=new[ID-0]))*ID;ID+=(ID.\n",
      "\n",
      "\n",
      "(ID=ID[ID+0]))*ID;ID+=ID;ID+=ID;ID+=ID;ID+=ID;ID=ID.ID;}ID=ID;ID=ID;for(ID=\n",
      "classID)ID.ID]0])){ID;ID=ID;ID+=ID;ID+=ID;ID=ID;ID=ID;ID(IDID=ID;}=ID;}(ID=\n",
      "\n",
      "\n",
      "ID<ID;ID++){ID[ID+0]=ID=(ID*ID)>>ID;if(ID!==0){ID=0/ID;ID[ID]=((ID*ID)\n",
      "class.ID;ID++){ID=ID]ID]=ID[IDID[ID++0;ID(ID[ID){ID=ID;ID;}=ID]=IDIDID[ID+\n",
      "\n",
      "\n",
      ")*ID;ID[ID+0]=((ID*ID)>>ID)*ID;ID[ID+0]=((ID*ID)>>ID)*ID;}else{ID[ID]\n",
      "class{ID.ID=0]0]=IDIDID*ID->>0)*ID;ID[ID+0]=((ID*ID)>>0)*ID;ID}{ID[ID]\n",
      "\n",
      "\n",
      "[ID+0]=ID[ID+0]=0;}ID-=ID;ID-=ID;ID-=ID;ID-=ID;ID-=ID.ID;ID-=ID.ID;ID-=ID.ID\n",
      "classID]0]=ID.ID]0];ID;ID}=0;}=ID;ID=ID;ID-=ID;ID-=ID;ID;ID-=ID.ID;}-=ID.ID\n",
      "\n",
      "\n",
      "-=ID.ID;ID=(ID+((ID=ID+ID+0)<ID?ID:ID))<<0;ID+=(ID.ID=ID[ID]);ID+=(ID.\n",
      "classID.ID;ID.IDID.IDIDID.ID.ID)0)%ID?ID:ID));0;}=(ID-ID=ID.ID]);ID+=IDID[\n",
      "\n",
      "\n",
      "ID[ID+0]);ID+=(ID.ID=ID[ID+0]);ID+=(ID.ID=ID[ID+0]);ID+=ID;ID+=ID;ID+=ID\n",
      "class.ID]0]=;}.IDID[ID(ID[ID+0]);ID+=IDID.ID=ID[ID+0]);ID+=ID;}+=ID;}+=ID\n",
      "\n",
      "\n",
      "+=ID;ID=ID.ID;ID+=(ID=ID.ID);ID+=(ID=ID.ID);ID+=(ID=ID.ID);ID+=(ID=ID.ID);\n",
      "classID.}=ID.ID(}=IDID.ID.ID);ID+=(ID.ID.ID);ID+=(ID=ID.ID);ID+=(ID=ID.ID);\n",
      "\n",
      "\n",
      "ID;ID-=ID;ID-=ID;ID-=ID;ID=ID.ID;ID+=0;}ID+=ID;}for(ID=0;ID<ID;ID++){ID=ID=ID\n",
      "class.}.ID;ID=ID;ID-=ID;ID-=ID;ID(ID=ID;}}=ID.}}(ID=0;ID<ID;ID++){ID=ID[ID\n",
      "\n",
      "\n",
      "=ID=ID=ID=ID=0;ID=ID<<0;ID=ID*(ID=ID[ID]);ID=ID*(ID=ID[ID+0]);ID=ID*\n",
      "classID.ID=ID=ID=ID;ID=ID=0;ID=ID>>>IDID=ID[ID]);ID=ID*(ID=ID[ID]0]);ID+=ID*\n",
      "\n",
      "\n",
      "=ID[ID+0]);ID=ID*(ID=ID[ID+0]);ID+=ID*ID;ID+=ID*ID;ID+=ID*ID;ID+=ID*ID;ID\n",
      "classID.ID]0];)}++ID.(ID-ID[ID+0]);ID=ID*ID;ID+=ID*ID;ID=ID*ID;ID=ID*ID;ID\n",
      "\n",
      "\n",
      ";for(ID=0;ID<ID;ID++){ID.ID=ID;ID.ID=ID;ID.ID=ID;ID.ID=ID;ID=ID.ID;}ID=ID\n",
      "class}(ID=0;ID<ID;ID++){ID=ID(ID[ID.ID=ID;ID.ID=ID;ID.ID=ID;ID.ID.ID;}if=ID\n",
      "\n",
      "\n",
      "(ID=0;ID<=ID;ID++){ID=(ID+ID)<<0;ID+=(ID.ID=(ID=ID[ID]))*(ID=ID-ID);ID\n",
      "classID)ID;ID<ID;ID++){ID=IDID+ID)%0;ID=IDID+ID(IDID=ID[ID])=*(ID=ID.ID);ID\n",
      "\n",
      "\n",
      "ID.ID=(ID=ID[ID+0]))*ID;ID+=(ID.ID=(ID=ID[ID+0]))*ID;ID+=(ID.ID=(ID=\n",
      "class.ID(IDID.ID.ID]0]);;0;ID=IDID=ID=IDID=new[ID-0]))*ID;ID+=(ID.ID=(ID=\n",
      "\n",
      "\n",
      "ID+0]))*ID;ID+=ID;ID+=ID;ID+=ID;ID+=ID;ID=ID.ID;if(ID<ID){ID+=ID;}}ID=ID;ID\n",
      "class.\"iframe\")=;{ID;ID=ID[}+=ID;}+=ID;}+=ID;ID+=ID;ID(ID(ID>ID){ID=ID;IDelseif=ID;ID\n",
      "\n",
      "\n",
      ";ID=ID;for(ID=0;ID<ID;ID++){ID=ID<<0;ID[ID+0]=ID=(ID*ID)>>ID;if(ID>0){\n",
      "class}.ID.}(ID=0;ID<ID;ID++){ID=ID[0;ID=ID]ID]=ID[IDID<<ID+&0;ID(ID[0){\n",
      "\n",
      "\n",
      "0/ID;ID[ID]=((ID*ID)>>ID)*ID;ID[ID+0]=((ID*ID)>>ID)*ID;ID[ID+0]=((\n",
      "class,ID)ID=0]=IDIDID[ID)|0)*ID;ID[ID]0]=((ID*ID)>>0)*ID;ID[ID]0]=((\n",
      "\n",
      "\n",
      "ID)>>ID)*ID;}else{ID[ID]=ID[ID+0]=ID[ID+0]=0;}ID-=ID;ID-=ID;ID-=ID;ID-=ID;\n",
      "class.{0)>>ID)ID}{ID=ID]=ID;ID]ID];ID;ID]ID];ID;}}=0;}=ID;}=ID;}=ID;\n",
      "\n",
      "\n",
      "ID.ID;ID-=ID.ID;ID-=ID.ID;ID-=ID.ID;ID=(ID+(((ID=ID+ID)<ID?ID:ID)*ID))<<0\n",
      "class.ID(ID.ID.ID;ID-=ID.ID;ID-=ID.ID;ID-=IDID-IDIDIDID.ID)ID)-ID?ID:ID)*ID)/;0\n",
      "\n",
      "\n",
      "+=(ID+=(ID.ID=ID[ID]));ID+=(ID+=(ID.ID=ID[ID+0]));ID+=(ID+=(ID.ID=ID[ID+\n",
      "classIDID.0ID.ID(ID.ID])+;}+=IDID.(ID.ID=ID[ID]0]));ID+=(ID.(ID.ID=([ID+\n",
      "\n",
      "\n",
      "));ID+=(ID+=(ID.ID=ID[ID+0]));ID=ID.ID;ID+=(ID=ID.ID);ID+=(ID=ID.ID);ID\n",
      "class{{}.IDID.IDID.ID(ID.ID]0]));ID+=(.ID;}=IDID.ID.ID);ID+=(ID.ID.ID);ID\n",
      "\n",
      "\n",
      "ID=ID.ID);ID+=(ID=ID.ID);ID-=ID;ID-=ID;ID-=ID;ID-=ID;ID=ID.ID;ID+=ID;}}}ID.ID\n",
      "class.ID.ID()}.IDID.ID.ID);}+=(;ID=ID;ID-=ID;ID-=ID;ID-=ID.ID(}=ID.ID}if}=ID\n",
      "\n",
      "\n",
      "=functionID(ID){varID=ID.ID(this.ID());if(ID>0){ID(ID,ID);}};ID.ID.ID(ID.ID,\"iframe\"\n",
      "classID((ID){ifID=ID.ID(ID.ID)),;if(ID)0){return.ID,ID);}else;ID.ID=ID=ID,ID.ID\n",
      "\n",
      "\n",
      ",null,ID.ID.ID);})();;(function(){functionID(ID,ID,ID){varID=(ID*ID.ID+ID)*0;varID=\n",
      "classID,ID)ID)ID);ID,;ID;<EOS>IDfunction(ID{varID(ID,ID,ID,{varID=IDID.ID)ID)ID*/ID;returnID=\n",
      "\n",
      "\n",
      ";ID.ID(ID.ID[ID++],ID.ID[ID++],ID.ID[ID++],ID.ID[ID++]);returnID;}functionID(ID,ID)\n",
      "class}.ID=ID.ID,0]])ID)ID)ID]])ID.ID[ID]],ID.ID[ID]],;}ID.};ID(ID,ID)\n",
      "\n",
      "\n",
      "ID.ID(ID.ID(ID[0]-ID[0],0)+ID.ID(ID[0]-ID[0],0)+ID.ID(ID[0]-ID[\n",
      "class.ID(ID)ID)ID)ID])ID[0])0),ID.ID(ID[0]-ID[0],0))ID.ID(ID[0]-ID[\n",
      "\n",
      "\n"
     ]
    }
   ],
   "source": [
    "for i in range(len(tar_np)):\n",
    "    print(''.join(to_tokens(to_tokens(tar_np[i],vocab.i2w),token_dict)))\n",
    "    print(''.join(to_tokens(to_tokens(pred_np[i],vocab.i2w),token_dict)))\n",
    "    print('\\n')"
   ]
  },
  {
   "cell_type": "code",
   "execution_count": 53,
   "metadata": {},
   "outputs": [
    {
     "data": {
      "text/plain": [
       "array([[56, 26, 27, ..., 22, 23, 85],\n",
       "       [ 1,  6, 56, ..., 56, 10, 54],\n",
       "       [ 1,  8, 56, ..., 22, 23, 56],\n",
       "       ..., \n",
       "       [ 1,  7, 89, ...,  8, 85, 56],\n",
       "       [ 1,  8, 56, ..., 56,  7, 56],\n",
       "       [ 1, 56,  6, ..., 26, 11, 56]])"
      ]
     },
     "execution_count": 53,
     "metadata": {},
     "output_type": "execute_result"
    }
   ],
   "source": [
    "inputs_np"
   ]
  },
  {
   "cell_type": "code",
   "execution_count": null,
   "metadata": {
    "collapsed": true
   },
   "outputs": [],
   "source": []
  }
 ],
 "metadata": {
  "kernelspec": {
   "display_name": "Python [conda env:pytorch]",
   "language": "python",
   "name": "conda-env-pytorch-py"
  },
  "language_info": {
   "codemirror_mode": {
    "name": "ipython",
    "version": 3
   },
   "file_extension": ".py",
   "mimetype": "text/x-python",
   "name": "python",
   "nbconvert_exporter": "python",
   "pygments_lexer": "ipython3",
   "version": "3.5.3"
  }
 },
 "nbformat": 4,
 "nbformat_minor": 2
}
