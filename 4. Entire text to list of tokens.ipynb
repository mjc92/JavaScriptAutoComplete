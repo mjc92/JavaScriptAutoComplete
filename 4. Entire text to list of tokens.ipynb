{
 "cells": [
  {
   "cell_type": "code",
   "execution_count": 1,
   "metadata": {
    "collapsed": true
   },
   "outputs": [],
   "source": [
    "import os\n",
    "import re\n",
    "from collections import Counter\n",
    "import slimit\n",
    "from slimit.parser import Parser\n",
    "from slimit.visitors.nodevisitor import ASTVisitor\n",
    "from slimit.lexer import Lexer\n",
    "from functions import lex, remove_comments"
   ]
  },
  {
   "cell_type": "code",
   "execution_count": 2,
   "metadata": {
    "collapsed": true
   },
   "outputs": [],
   "source": [
    "input_len = 30"
   ]
  },
  {
   "cell_type": "code",
   "execution_count": 3,
   "metadata": {
    "collapsed": true
   },
   "outputs": [],
   "source": [
    "# _actual is the result of removing all missing and undecodable files\n",
    "file_dir = '/home/irteam/users/data/150kJavaScript/'\n",
    "lexer = Lexer()\n",
    "\n",
    "with open(file_dir+'programs_training_actual.txt') as f:\n",
    "    file_list=f.readlines()"
   ]
  },
  {
   "cell_type": "code",
   "execution_count": 11,
   "metadata": {
    "scrolled": true
   },
   "outputs": [],
   "source": [
    "idx=400\n",
    "for i,file in enumerate(file_list[idx:idx+1]):\n",
    "    file = file.strip()\n",
    "    with open(file_dir+file) as f:\n",
    "        text = f.read()\n",
    "    tokens = lex(text,'value')"
   ]
  },
  {
   "cell_type": "code",
   "execution_count": 13,
   "metadata": {},
   "outputs": [
    {
     "name": "stdout",
     "output_type": "stream",
     "text": [
      "$ ( function ( ) { var data = [ { \"hc-key\" : \"fr-q-sm\" , \"value\" : 0 } , { \"hc-key\" : \"fr-q-eu\" , \"value\" : 1 } ] \n",
      "\n",
      "\n",
      " $ ( '#container' ) . highcharts ( 'Map' , { title : { text : 'Highmaps basic demo' } , subtitle : { text : 'Source map: <a href=\"http://code.highcharts.com/mapdata/countries/fr/fr-q-all.js\">Haute-Normandie</a>' } , mapNavigation : { enabled : true , buttonOptions : { verticalAlign : 'bottom' } } , colorAxis : { min : 0 } , series : [ { data : data , mapData : Highcharts . maps [ 'countries/fr/fr-q-all' ] , joinBy : 'hc-key' , name : 'Random data' , states : { hover : { color : '#BADA55' } } , dataLabels : { enabled : true , format : '{point.name}' } } ] } ) \n",
      "\n",
      "\n",
      " } ) \n",
      "\n",
      "\n",
      "\n",
      "\n",
      "\n"
     ]
    }
   ],
   "source": [
    "for line in ' '.join(tokens).split(';'):\n",
    "    print(line)\n",
    "    print('\\n')"
   ]
  },
  {
   "cell_type": "code",
   "execution_count": null,
   "metadata": {
    "collapsed": true
   },
   "outputs": [],
   "source": [
    "lexer.input('var a = ')"
   ]
  },
  {
   "cell_type": "code",
   "execution_count": null,
   "metadata": {
    "collapsed": true
   },
   "outputs": [],
   "source": [
    "for token in lexer:\n",
    "    print(token)"
   ]
  },
  {
   "cell_type": "code",
   "execution_count": null,
   "metadata": {
    "collapsed": true
   },
   "outputs": [],
   "source": [
    "out_file.fll"
   ]
  },
  {
   "cell_type": "code",
   "execution_count": null,
   "metadata": {
    "collapsed": true
   },
   "outputs": [],
   "source": []
  }
 ],
 "metadata": {
  "kernelspec": {
   "display_name": "Python [conda env:pytorch]",
   "language": "python",
   "name": "conda-env-pytorch-py"
  },
  "language_info": {
   "codemirror_mode": {
    "name": "ipython",
    "version": 3
   },
   "file_extension": ".py",
   "mimetype": "text/x-python",
   "name": "python",
   "nbconvert_exporter": "python",
   "pygments_lexer": "ipython3",
   "version": "3.5.3"
  }
 },
 "nbformat": 4,
 "nbformat_minor": 2
}
