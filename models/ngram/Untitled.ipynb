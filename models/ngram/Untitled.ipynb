{
 "cells": [
  {
   "cell_type": "code",
   "execution_count": 1,
   "metadata": {
    "collapsed": true
   },
   "outputs": [],
   "source": [
    "import getopt\n",
    "import os\n",
    "import sys\n",
    "import reader"
   ]
  },
  {
   "cell_type": "code",
   "execution_count": 2,
   "metadata": {
    "collapsed": true
   },
   "outputs": [],
   "source": [
    "def train_ngram(data_path, list_file, out_file):\n",
    "    list_path = os.path.join(data_path, list_file)\n",
    "\n",
    "    with open(out_file, \"w\") as f:\n",
    "        for file_data in reader.read_data(data_path, list_path):\n",
    "            f.write(\" \".join(file_data) + \"\\n\")"
   ]
  },
  {
   "cell_type": "code",
   "execution_count": null,
   "metadata": {
    "collapsed": true
   },
   "outputs": [],
   "source": [
    "train_ngram('/home/irteam/users/data/150kJavaScript/train/data_lexed/',\n",
    "           '/home/irteam/users/data/150kJavaScript/train/file_list_data_lexed.txt',\n",
    "           '/home/irteam/users/data/150kJavaScript/train/ngram_data_lexed.txt')"
   ]
  },
  {
   "cell_type": "code",
   "execution_count": null,
   "metadata": {
    "collapsed": true
   },
   "outputs": [],
   "source": []
  }
 ],
 "metadata": {
  "kernelspec": {
   "display_name": "Python [default]",
   "language": "python",
   "name": "python3"
  },
  "language_info": {
   "codemirror_mode": {
    "name": "ipython",
    "version": 3
   },
   "file_extension": ".py",
   "mimetype": "text/x-python",
   "name": "python",
   "nbconvert_exporter": "python",
   "pygments_lexer": "ipython3",
   "version": "3.6.1"
  }
 },
 "nbformat": 4,
 "nbformat_minor": 2
}
