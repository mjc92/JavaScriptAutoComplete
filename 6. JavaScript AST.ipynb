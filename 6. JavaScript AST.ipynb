{
 "cells": [
  {
   "cell_type": "code",
   "execution_count": 2,
   "metadata": {
    "collapsed": true
   },
   "outputs": [],
   "source": [
    "import os\n",
    "import re\n",
    "from collections import Counter\n",
    "import slimit\n",
    "from slimit.parser import Parser\n",
    "from slimit.visitors.nodevisitor import ASTVisitor\n",
    "from slimit.lexer import Lexer\n",
    "from slimit import ast\n",
    "from slimit.visitors import nodevisitor\n",
    "from functions import lex, remove_comments"
   ]
  },
  {
   "cell_type": "code",
   "execution_count": 11,
   "metadata": {},
   "outputs": [],
   "source": [
    "# _actual is the result of removing all missing and undecodable files\n",
    "file_dir = '/home/irteam/users/data/150kJavaScript'\n",
    "lexer = Lexer()\n",
    "\n",
    "with open(os.path.join(file_dir,'programs_training_actual.txt')) as f:\n",
    "    file_list=f.readlines()"
   ]
  },
  {
   "cell_type": "code",
   "execution_count": 12,
   "metadata": {},
   "outputs": [],
   "source": [
    "with open('/home/irteam/users/data/150kJavaScript/programs_training_actual.txt') as f:\n",
    "    file_list=f.read().split('\\n')"
   ]
  },
  {
   "cell_type": "code",
   "execution_count": 23,
   "metadata": {},
   "outputs": [
    {
     "name": "stdout",
     "output_type": "stream",
     "text": [
      "var spdy = require('../spdy'),\n",
      "utils = exports;\n",
      "var stream = require('stream'),\n",
      "zlib = require('zlib'),\n",
      "Buffer = require('buffer').Buffer;\n",
      "utils.isLegacy = !stream.Duplex;\n",
      "if (utils.isLegacy)\n",
      "utils.DuplexStream = stream;\n",
      "else\n",
      "utils.DuplexStream = stream.Duplex;\n",
      "utils.createDeflate = function createDeflate(version) {\n",
      "var deflate = zlib.createDeflate({\n",
      "dictionary: spdy.protocol.dictionary[version],\n",
      "windowBits: 11\n",
      "});\n",
      "deflate.locked = false;\n",
      "deflate.lockQueue = [];\n",
      "return deflate;\n",
      "};\n",
      "utils.createInflate = function createInflate(version) {\n",
      "var inflate = zlib.createInflate({\n",
      "dictionary: spdy.protocol.dictionary[version],\n",
      "windowBits: 15\n",
      "});\n",
      "inflate.locked = false;\n",
      "inflate.lockQueue = [];\n",
      "return inflate;\n",
      "};\n",
      "utils.resetZlibStream = function resetZlibStream(stream, callback) {\n",
      "if (stream.locked) {\n",
      "stream.lockQueue.push(function() {\n",
      "resetZlibStream(stream, callback);\n",
      "});\n",
      "return;\n",
      "}\n",
      "stream.reset();\n",
      "stream.lockQueue = [];\n",
      "callback(null);\n",
      "};\n",
      "var delta = 0;\n",
      "utils.zstream = function zstream(stream, buffer, callback) {\n",
      "var flush = stream._flush,\n",
      "chunks = [],\n",
      "total = 0;\n",
      "if (stream.locked) {\n",
      "stream.lockQueue.push(function() {\n",
      "zstream(stream, buffer, callback);\n",
      "});\n",
      "return;\n",
      "}\n",
      "stream.locked = true;\n",
      "function collect(chunk) {\n",
      "chunks.push(chunk);\n",
      "total += chunk.length;\n",
      "}\n",
      "stream.on('data', collect);\n",
      "stream.write(buffer);\n",
      "stream.once('error', function(err) {\n",
      "stream.removeAllListeners('data');\n",
      "callback(err);\n",
      "});\n",
      "stream.flush(function() {\n",
      "stream.removeAllListeners('data');\n",
      "stream.removeAllListeners('error');\n",
      "stream._flush = flush;\n",
      "callback(null, chunks, total);\n",
      "stream.locked = false;\n",
      "var deferred = stream.lockQueue.shift();\n",
      "if (deferred)\n",
      "deferred();\n",
      "});\n",
      "};\n",
      "utils.zwrap = function zwrap(stream) {\n",
      "return function(data, callback) {\n",
      "utils.zstream(stream, data, callback);\n",
      "};\n",
      "};\n"
     ]
    }
   ],
   "source": [
    "file = file_list[13]\n",
    "with open(os.path.join(file_dir,file)) as f:\n",
    "    text = f.read()\n",
    "print(text)"
   ]
  },
  {
   "cell_type": "code",
   "execution_count": 16,
   "metadata": {
    "scrolled": false
   },
   "outputs": [
    {
     "name": "stdout",
     "output_type": "stream",
     "text": [
      "goog.provide('goog.structs.Node');\n",
      "goog.structs.Node = function(key, value) {\n",
      "this.key_ = key;\n",
      "this.value_ = value;\n",
      "};\n",
      "goog.structs.Node.prototype.getKey = function() {\n",
      "return this.key_;\n",
      "};\n",
      "goog.structs.Node.prototype.getValue = function() {\n",
      "return this.value_;\n",
      "};\n",
      "goog.structs.Node.prototype.clone = function() {\n",
      "return new goog.structs.Node(this.key_, this.value_);\n",
      "};\n"
     ]
    }
   ],
   "source": [
    "print(text)"
   ]
  },
  {
   "cell_type": "code",
   "execution_count": null,
   "metadata": {},
   "outputs": [],
   "source": [
    "print(text)"
   ]
  },
  {
   "cell_type": "code",
   "execution_count": null,
   "metadata": {},
   "outputs": [],
   "source": [
    "parser = Parser()\n",
    "tree = parser.parse(text)"
   ]
  },
  {
   "cell_type": "code",
   "execution_count": null,
   "metadata": {
    "collapsed": true
   },
   "outputs": [],
   "source": [
    "ast_list = [node for node in nodevisitor.visit(tree) if node!=[]]"
   ]
  },
  {
   "cell_type": "code",
   "execution_count": null,
   "metadata": {},
   "outputs": [],
   "source": [
    "t_list = []\n",
    "nt_list = []\n",
    "for node in nodevisitor.visit(tree):\n",
    "    try:\n",
    "        val = node.value\n",
    "        print(node,node.value)\n",
    "    except AttributeError:\n",
    "        continue\n",
    "#     if type(node)==list:\n",
    "#         if len(node)>0:\n",
    "#             node = node[0]\n",
    "#         else:\n",
    "#             continue\n",
    "#     if len(node.children())>0:\n",
    "#         nt_list.append(node)\n",
    "#     else:\n",
    "#         t_list.append(node)\n",
    "#     if isinstance(node, ast.ExprStatement):\n",
    "#         print(node.mro)\n",
    "#     if isinstance(node, ast.Identifier):\n",
    "#         print('id : ',node.value)\n",
    "#     if isinstance(node, ast.Number):\n",
    "#         print('num: ',node.value)\n",
    "#     if isinstance(node, ast.String):\n",
    "#         print('str: ',node.value)"
   ]
  },
  {
   "cell_type": "code",
   "execution_count": null,
   "metadata": {},
   "outputs": [],
   "source": [
    "t_list"
   ]
  },
  {
   "cell_type": "code",
   "execution_count": null,
   "metadata": {},
   "outputs": [],
   "source": [
    "nt_list"
   ]
  },
  {
   "cell_type": "code",
   "execution_count": null,
   "metadata": {},
   "outputs": [],
   "source": [
    "print(ast_list[2])\n",
    "print(ast_list[0].children()[0].children()[0])"
   ]
  },
  {
   "cell_type": "code",
   "execution_count": null,
   "metadata": {
    "collapsed": true
   },
   "outputs": [],
   "source": [
    "out_list = []\n",
    "def recursive_ast(ast_list):\n",
    "#     print('\\n===========================\\n\\n\\n\\n')\n",
    "    for node in ast_list:\n",
    "        if node!=None:\n",
    "            if (type(node)==list):\n",
    "                if len(node)>0:\n",
    "                    node = node[0]\n",
    "            if type(node)!=list:\n",
    "                out_list.append(node)\n",
    "#                 print(node)\n",
    "                child_list = node.children()\n",
    "                if len(child_list)>0:\n",
    "                    recursive_ast(child_list)\n",
    "recursive_ast(ast_list)"
   ]
  },
  {
   "cell_type": "code",
   "execution_count": null,
   "metadata": {},
   "outputs": [],
   "source": [
    "help(slimit.ast.ExprStatement.mro)"
   ]
  },
  {
   "cell_type": "code",
   "execution_count": null,
   "metadata": {},
   "outputs": [],
   "source": [
    "list(set(type_list))"
   ]
  },
  {
   "cell_type": "code",
   "execution_count": null,
   "metadata": {},
   "outputs": [],
   "source": [
    "print(ast_list[-4])\n",
    "print(ast_list[-4].children())\n",
    "# print(ast_list[-1].children()[-1])"
   ]
  },
  {
   "cell_type": "code",
   "execution_count": null,
   "metadata": {},
   "outputs": [],
   "source": [
    "v1 = ast_list[0]\n",
    "print(v1)\n",
    "print(v1.children())\n",
    "v2 = v1.children()[0]\n",
    "print(v2)\n",
    "print(v2.children())\n",
    "v3 = v2.children()[0]\n",
    "print(v3)\n",
    "print(v3.children())\n",
    "print(len(v3.children()))"
   ]
  },
  {
   "cell_type": "code",
   "execution_count": null,
   "metadata": {},
   "outputs": [],
   "source": [
    "out_list"
   ]
  },
  {
   "cell_type": "code",
   "execution_count": null,
   "metadata": {},
   "outputs": [],
   "source": [
    "lst = [1,2]\n",
    "lst.pop(0)\n",
    "print(lst)\n",
    "lst.pop(0)\n",
    "print(lst)"
   ]
  },
  {
   "cell_type": "code",
   "execution_count": null,
   "metadata": {},
   "outputs": [],
   "source": [
    "var.children()[0].children()"
   ]
  },
  {
   "cell_type": "code",
   "execution_count": null,
   "metadata": {},
   "outputs": [],
   "source": [
    "var"
   ]
  },
  {
   "cell_type": "code",
   "execution_count": null,
   "metadata": {},
   "outputs": [],
   "source": [
    "var.children()[0]"
   ]
  },
  {
   "cell_type": "code",
   "execution_count": null,
   "metadata": {},
   "outputs": [],
   "source": [
    "var.children()[0].children()[0]"
   ]
  },
  {
   "cell_type": "code",
   "execution_count": null,
   "metadata": {
    "collapsed": true
   },
   "outputs": [],
   "source": []
  },
  {
   "cell_type": "code",
   "execution_count": null,
   "metadata": {
    "collapsed": true
   },
   "outputs": [],
   "source": []
  },
  {
   "cell_type": "code",
   "execution_count": null,
   "metadata": {
    "scrolled": false
   },
   "outputs": [],
   "source": [
    "ast_list"
   ]
  },
  {
   "cell_type": "code",
   "execution_count": null,
   "metadata": {
    "collapsed": true
   },
   "outputs": [],
   "source": [
    "print(text)"
   ]
  },
  {
   "cell_type": "code",
   "execution_count": null,
   "metadata": {
    "collapsed": true
   },
   "outputs": [],
   "source": []
  },
  {
   "cell_type": "code",
   "execution_count": null,
   "metadata": {
    "collapsed": true,
    "scrolled": true
   },
   "outputs": [],
   "source": [
    "for i,file in enumerate(file_list[0:1]):\n",
    "    file = file.strip()\n",
    "    with open(file_dir+file) as f:\n",
    "        text = f.read()\n",
    "    tokens = lex(text,'value')\n",
    "    if len(tokens)<=input_len:\n",
    "        continue\n",
    "    pos = 0\n",
    "    out_list = []\n",
    "    while p\n",
    "    os+input_len<len(tokens):\n",
    "        input_string = ':=:'.join(tokens[pos:pos+input_len])\n",
    "        output_string = tokens[pos+input_len+1]\n",
    "        pos+=1\n",
    "        out_list.append(input_string+\":==:\"+output_string)\n",
    "    out_list = '\\n'.join(out_list)\n",
    "    out_file = file.replace('.js','_30words.js')"
   ]
  },
  {
   "cell_type": "code",
   "execution_count": null,
   "metadata": {
    "collapsed": true
   },
   "outputs": [],
   "source": [
    "tokens"
   ]
  },
  {
   "cell_type": "code",
   "execution_count": null,
   "metadata": {
    "collapsed": true
   },
   "outputs": [],
   "source": [
    "lexer.input('var a = ')"
   ]
  },
  {
   "cell_type": "code",
   "execution_count": null,
   "metadata": {
    "collapsed": true
   },
   "outputs": [],
   "source": [
    "for token in lexer:\n",
    "    print(token)"
   ]
  },
  {
   "cell_type": "code",
   "execution_count": null,
   "metadata": {
    "collapsed": true
   },
   "outputs": [],
   "source": [
    "out_file.fll"
   ]
  },
  {
   "cell_type": "code",
   "execution_count": null,
   "metadata": {
    "collapsed": true
   },
   "outputs": [],
   "source": []
  }
 ],
 "metadata": {
  "kernelspec": {
   "display_name": "Python [conda env:pytorch]",
   "language": "python",
   "name": "conda-env-pytorch-py"
  },
  "language_info": {
   "codemirror_mode": {
    "name": "ipython",
    "version": 3
   },
   "file_extension": ".py",
   "mimetype": "text/x-python",
   "name": "python",
   "nbconvert_exporter": "python",
   "pygments_lexer": "ipython3",
   "version": "3.5.3"
  }
 },
 "nbformat": 4,
 "nbformat_minor": 2
}
